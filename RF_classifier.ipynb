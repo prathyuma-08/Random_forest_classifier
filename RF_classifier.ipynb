{
  "cells": [
    {
      "cell_type": "markdown",
      "source": [
        "# Importing packages and dataset"
      ],
      "metadata": {
        "id": "3DGTeglOUgCF"
      }
    },
    {
      "cell_type": "code",
      "execution_count": null,
      "metadata": {
        "id": "L3ens_4VCMyp"
      },
      "outputs": [],
      "source": [
        "#Importing packages\n",
        "\n",
        "import pandas as pd\n",
        "import numpy as np\n",
        "import matplotlib.pyplot as plt\n",
        "import seaborn as sns\n",
        "from scipy.stats import chi2_contingency\n",
        "import missingno as msno\n",
        "from sklearn.model_selection import GridSearchCV\n",
        "from sklearn.ensemble import RandomForestClassifier"
      ]
    },
    {
      "cell_type": "code",
      "execution_count": null,
      "metadata": {
        "id": "XOWc5A71DSKA"
      },
      "outputs": [],
      "source": [
        "#Importing train and test data\n",
        "\n",
        "train = pd.read_csv(\"/content/Train.csv\")\n",
        "test = pd.read_csv(\"/content/Test.csv\")"
      ]
    },
    {
      "cell_type": "markdown",
      "metadata": {
        "id": "ay1DeKalC2ad"
      },
      "source": [
        "# Exploratory data analysis"
      ]
    },
    {
      "cell_type": "code",
      "execution_count": null,
      "metadata": {
        "colab": {
          "base_uri": "https://localhost:8080/"
        },
        "id": "OweX6nlcDVC3",
        "outputId": "9907d76b-7552-471b-a967-40efde12f86f"
      },
      "outputs": [
        {
          "output_type": "stream",
          "name": "stdout",
          "text": [
            "Train dataset has 412 samples and 24 attributes\n",
            "Test dataset has 177 samples and 23 attributes\n"
          ]
        }
      ],
      "source": [
        "#Shape of the data\n",
        "\n",
        "print(\"Train dataset has {} samples and {} attributes\".format(*train.shape))\n",
        "print(\"Test dataset has {} samples and {} attributes\".format(*test.shape))"
      ]
    },
    {
      "cell_type": "code",
      "execution_count": null,
      "metadata": {
        "colab": {
          "base_uri": "https://localhost:8080/",
          "height": 421
        },
        "id": "fULAJxUcDVC6",
        "outputId": "bbf857b0-035e-416c-b757-da3bd8c43c1d"
      },
      "outputs": [
        {
          "output_type": "execute_result",
          "data": {
            "text/plain": [
              "    ID  Cough  Shortness of breath  Fatigue  body aches  Headache  \\\n",
              "0  309      2                    3        2           0       2.0   \n",
              "1  486      2                    2        1           0       0.0   \n",
              "2  199      3                    3        3           0       2.0   \n",
              "3  495      2                    1        3           0       2.0   \n",
              "4  401      3                    2        2           0       0.0   \n",
              "\n",
              "   Loss of taste family history  Loss of smell  Nausea  ...    Region  \\\n",
              "0              0            Yes              2     0.0  ...  Americas   \n",
              "1              0            Yes              1     0.0  ...    Europe   \n",
              "2              0            Yes              2     0.0  ...    Europe   \n",
              "3              0            Yes              0     0.0  ...    Europe   \n",
              "4              0            Yes              2     0.0  ...  Americas   \n",
              "\n",
              "   Misc Symptom 2  Misc Symptom 3  Misc Symptom 4 Misc Symptom 5  \\\n",
              "0               0               1               2              0   \n",
              "1               1               0               0              3   \n",
              "2               3               0               2              0   \n",
              "3               0               0               0              0   \n",
              "4               0               0               0              0   \n",
              "\n",
              "   Misc Symptom 6  Misc Symptom 7  Pre-existing symptoms  Age    Variant  \n",
              "0               0               2                    NaN   31  Variant 1  \n",
              "1               0               0                    NaN   22  Variant 2  \n",
              "2               0               0                      ?   18  Variant 1  \n",
              "3               0               0                    NaN   23  Variant 3  \n",
              "4               0               0                    NaN   56  Variant 1  \n",
              "\n",
              "[5 rows x 24 columns]"
            ],
            "text/html": [
              "\n",
              "  <div id=\"df-799581e6-eb37-430f-afe5-ceaeabd5b0b1\">\n",
              "    <div class=\"colab-df-container\">\n",
              "      <div>\n",
              "<style scoped>\n",
              "    .dataframe tbody tr th:only-of-type {\n",
              "        vertical-align: middle;\n",
              "    }\n",
              "\n",
              "    .dataframe tbody tr th {\n",
              "        vertical-align: top;\n",
              "    }\n",
              "\n",
              "    .dataframe thead th {\n",
              "        text-align: right;\n",
              "    }\n",
              "</style>\n",
              "<table border=\"1\" class=\"dataframe\">\n",
              "  <thead>\n",
              "    <tr style=\"text-align: right;\">\n",
              "      <th></th>\n",
              "      <th>ID</th>\n",
              "      <th>Cough</th>\n",
              "      <th>Shortness of breath</th>\n",
              "      <th>Fatigue</th>\n",
              "      <th>body aches</th>\n",
              "      <th>Headache</th>\n",
              "      <th>Loss of taste</th>\n",
              "      <th>family history</th>\n",
              "      <th>Loss of smell</th>\n",
              "      <th>Nausea</th>\n",
              "      <th>...</th>\n",
              "      <th>Region</th>\n",
              "      <th>Misc Symptom 2</th>\n",
              "      <th>Misc Symptom 3</th>\n",
              "      <th>Misc Symptom 4</th>\n",
              "      <th>Misc Symptom 5</th>\n",
              "      <th>Misc Symptom 6</th>\n",
              "      <th>Misc Symptom 7</th>\n",
              "      <th>Pre-existing symptoms</th>\n",
              "      <th>Age</th>\n",
              "      <th>Variant</th>\n",
              "    </tr>\n",
              "  </thead>\n",
              "  <tbody>\n",
              "    <tr>\n",
              "      <th>0</th>\n",
              "      <td>309</td>\n",
              "      <td>2</td>\n",
              "      <td>3</td>\n",
              "      <td>2</td>\n",
              "      <td>0</td>\n",
              "      <td>2.0</td>\n",
              "      <td>0</td>\n",
              "      <td>Yes</td>\n",
              "      <td>2</td>\n",
              "      <td>0.0</td>\n",
              "      <td>...</td>\n",
              "      <td>Americas</td>\n",
              "      <td>0</td>\n",
              "      <td>1</td>\n",
              "      <td>2</td>\n",
              "      <td>0</td>\n",
              "      <td>0</td>\n",
              "      <td>2</td>\n",
              "      <td>NaN</td>\n",
              "      <td>31</td>\n",
              "      <td>Variant 1</td>\n",
              "    </tr>\n",
              "    <tr>\n",
              "      <th>1</th>\n",
              "      <td>486</td>\n",
              "      <td>2</td>\n",
              "      <td>2</td>\n",
              "      <td>1</td>\n",
              "      <td>0</td>\n",
              "      <td>0.0</td>\n",
              "      <td>0</td>\n",
              "      <td>Yes</td>\n",
              "      <td>1</td>\n",
              "      <td>0.0</td>\n",
              "      <td>...</td>\n",
              "      <td>Europe</td>\n",
              "      <td>1</td>\n",
              "      <td>0</td>\n",
              "      <td>0</td>\n",
              "      <td>3</td>\n",
              "      <td>0</td>\n",
              "      <td>0</td>\n",
              "      <td>NaN</td>\n",
              "      <td>22</td>\n",
              "      <td>Variant 2</td>\n",
              "    </tr>\n",
              "    <tr>\n",
              "      <th>2</th>\n",
              "      <td>199</td>\n",
              "      <td>3</td>\n",
              "      <td>3</td>\n",
              "      <td>3</td>\n",
              "      <td>0</td>\n",
              "      <td>2.0</td>\n",
              "      <td>0</td>\n",
              "      <td>Yes</td>\n",
              "      <td>2</td>\n",
              "      <td>0.0</td>\n",
              "      <td>...</td>\n",
              "      <td>Europe</td>\n",
              "      <td>3</td>\n",
              "      <td>0</td>\n",
              "      <td>2</td>\n",
              "      <td>0</td>\n",
              "      <td>0</td>\n",
              "      <td>0</td>\n",
              "      <td>?</td>\n",
              "      <td>18</td>\n",
              "      <td>Variant 1</td>\n",
              "    </tr>\n",
              "    <tr>\n",
              "      <th>3</th>\n",
              "      <td>495</td>\n",
              "      <td>2</td>\n",
              "      <td>1</td>\n",
              "      <td>3</td>\n",
              "      <td>0</td>\n",
              "      <td>2.0</td>\n",
              "      <td>0</td>\n",
              "      <td>Yes</td>\n",
              "      <td>0</td>\n",
              "      <td>0.0</td>\n",
              "      <td>...</td>\n",
              "      <td>Europe</td>\n",
              "      <td>0</td>\n",
              "      <td>0</td>\n",
              "      <td>0</td>\n",
              "      <td>0</td>\n",
              "      <td>0</td>\n",
              "      <td>0</td>\n",
              "      <td>NaN</td>\n",
              "      <td>23</td>\n",
              "      <td>Variant 3</td>\n",
              "    </tr>\n",
              "    <tr>\n",
              "      <th>4</th>\n",
              "      <td>401</td>\n",
              "      <td>3</td>\n",
              "      <td>2</td>\n",
              "      <td>2</td>\n",
              "      <td>0</td>\n",
              "      <td>0.0</td>\n",
              "      <td>0</td>\n",
              "      <td>Yes</td>\n",
              "      <td>2</td>\n",
              "      <td>0.0</td>\n",
              "      <td>...</td>\n",
              "      <td>Americas</td>\n",
              "      <td>0</td>\n",
              "      <td>0</td>\n",
              "      <td>0</td>\n",
              "      <td>0</td>\n",
              "      <td>0</td>\n",
              "      <td>0</td>\n",
              "      <td>NaN</td>\n",
              "      <td>56</td>\n",
              "      <td>Variant 1</td>\n",
              "    </tr>\n",
              "  </tbody>\n",
              "</table>\n",
              "<p>5 rows × 24 columns</p>\n",
              "</div>\n",
              "      <button class=\"colab-df-convert\" onclick=\"convertToInteractive('df-799581e6-eb37-430f-afe5-ceaeabd5b0b1')\"\n",
              "              title=\"Convert this dataframe to an interactive table.\"\n",
              "              style=\"display:none;\">\n",
              "        \n",
              "  <svg xmlns=\"http://www.w3.org/2000/svg\" height=\"24px\"viewBox=\"0 0 24 24\"\n",
              "       width=\"24px\">\n",
              "    <path d=\"M0 0h24v24H0V0z\" fill=\"none\"/>\n",
              "    <path d=\"M18.56 5.44l.94 2.06.94-2.06 2.06-.94-2.06-.94-.94-2.06-.94 2.06-2.06.94zm-11 1L8.5 8.5l.94-2.06 2.06-.94-2.06-.94L8.5 2.5l-.94 2.06-2.06.94zm10 10l.94 2.06.94-2.06 2.06-.94-2.06-.94-.94-2.06-.94 2.06-2.06.94z\"/><path d=\"M17.41 7.96l-1.37-1.37c-.4-.4-.92-.59-1.43-.59-.52 0-1.04.2-1.43.59L10.3 9.45l-7.72 7.72c-.78.78-.78 2.05 0 2.83L4 21.41c.39.39.9.59 1.41.59.51 0 1.02-.2 1.41-.59l7.78-7.78 2.81-2.81c.8-.78.8-2.07 0-2.86zM5.41 20L4 18.59l7.72-7.72 1.47 1.35L5.41 20z\"/>\n",
              "  </svg>\n",
              "      </button>\n",
              "      \n",
              "  <style>\n",
              "    .colab-df-container {\n",
              "      display:flex;\n",
              "      flex-wrap:wrap;\n",
              "      gap: 12px;\n",
              "    }\n",
              "\n",
              "    .colab-df-convert {\n",
              "      background-color: #E8F0FE;\n",
              "      border: none;\n",
              "      border-radius: 50%;\n",
              "      cursor: pointer;\n",
              "      display: none;\n",
              "      fill: #1967D2;\n",
              "      height: 32px;\n",
              "      padding: 0 0 0 0;\n",
              "      width: 32px;\n",
              "    }\n",
              "\n",
              "    .colab-df-convert:hover {\n",
              "      background-color: #E2EBFA;\n",
              "      box-shadow: 0px 1px 2px rgba(60, 64, 67, 0.3), 0px 1px 3px 1px rgba(60, 64, 67, 0.15);\n",
              "      fill: #174EA6;\n",
              "    }\n",
              "\n",
              "    [theme=dark] .colab-df-convert {\n",
              "      background-color: #3B4455;\n",
              "      fill: #D2E3FC;\n",
              "    }\n",
              "\n",
              "    [theme=dark] .colab-df-convert:hover {\n",
              "      background-color: #434B5C;\n",
              "      box-shadow: 0px 1px 3px 1px rgba(0, 0, 0, 0.15);\n",
              "      filter: drop-shadow(0px 1px 2px rgba(0, 0, 0, 0.3));\n",
              "      fill: #FFFFFF;\n",
              "    }\n",
              "  </style>\n",
              "\n",
              "      <script>\n",
              "        const buttonEl =\n",
              "          document.querySelector('#df-799581e6-eb37-430f-afe5-ceaeabd5b0b1 button.colab-df-convert');\n",
              "        buttonEl.style.display =\n",
              "          google.colab.kernel.accessAllowed ? 'block' : 'none';\n",
              "\n",
              "        async function convertToInteractive(key) {\n",
              "          const element = document.querySelector('#df-799581e6-eb37-430f-afe5-ceaeabd5b0b1');\n",
              "          const dataTable =\n",
              "            await google.colab.kernel.invokeFunction('convertToInteractive',\n",
              "                                                     [key], {});\n",
              "          if (!dataTable) return;\n",
              "\n",
              "          const docLinkHtml = 'Like what you see? Visit the ' +\n",
              "            '<a target=\"_blank\" href=https://colab.research.google.com/notebooks/data_table.ipynb>data table notebook</a>'\n",
              "            + ' to learn more about interactive tables.';\n",
              "          element.innerHTML = '';\n",
              "          dataTable['output_type'] = 'display_data';\n",
              "          await google.colab.output.renderOutput(dataTable, element);\n",
              "          const docLink = document.createElement('div');\n",
              "          docLink.innerHTML = docLinkHtml;\n",
              "          element.appendChild(docLink);\n",
              "        }\n",
              "      </script>\n",
              "    </div>\n",
              "  </div>\n",
              "  "
            ]
          },
          "metadata": {},
          "execution_count": 4
        }
      ],
      "source": [
        "#Display first five rows of the data\n",
        "\n",
        "train.head()"
      ]
    },
    {
      "cell_type": "markdown",
      "metadata": {
        "id": "BO0sfsBiDVC7"
      },
      "source": [
        "We have 23 feature columns and target variable Variant which has 6 classes. Family history and Region are categorical variables, while the others are numerical."
      ]
    },
    {
      "cell_type": "code",
      "execution_count": null,
      "metadata": {
        "colab": {
          "base_uri": "https://localhost:8080/",
          "height": 295
        },
        "id": "_j33PtfPDVC9",
        "outputId": "2a43e7c9-0068-4df7-a436-285f5c29c421"
      },
      "outputs": [
        {
          "output_type": "display_data",
          "data": {
            "text/plain": [
              "<Figure size 432x288 with 1 Axes>"
            ],
            "image/png": "[encoded data removed]"
          },
          "metadata": {
            "needs_background": "light"
          }
        }
      ],
      "source": [
        "#Most frequent variant \n",
        "\n",
        "train.Variant.value_counts().plot(kind=\"bar\")\n",
        "plt.title(\"Value counts of the target variable\")\n",
        "plt.xlabel(\"Variant\")\n",
        "plt.xticks(rotation=0)\n",
        "plt.ylabel(\"Count\")\n",
        "plt.show()"
      ]
    },
    {
      "cell_type": "markdown",
      "source": [
        "We have 6 variants namely Variant 1, Variant 2, Variant 2, Variant 4, Variant 5 and Variant 6. Most of the people have Variant 1 disease as per the dataset."
      ],
      "metadata": {
        "id": "gKhJLMZrWUM4"
      }
    },
    {
      "cell_type": "code",
      "execution_count": null,
      "metadata": {
        "colab": {
          "base_uri": "https://localhost:8080/"
        },
        "id": "H2_N0QD2DVC_",
        "outputId": "5fe3d3ef-fe8e-46b2-b204-28b014a1c2ed"
      },
      "outputs": [
        {
          "output_type": "stream",
          "name": "stdout",
          "text": [
            "% of Variant 1 in the train dataset:  42.47572815533981\n",
            "% of Variant 2 in the train dataset:  26.699029126213592\n",
            "% of Variant 3 in the train dataset:  12.37864077669903\n",
            "% of Variant 4 in the train dataset:  8.737864077669903\n",
            "% of Variant 5 in the train dataset:  7.038834951456311\n",
            "% of Variant 6 in the train dataset:  2.6699029126213594\n"
          ]
        }
      ],
      "source": [
        "#Percentage of the variants in the dataset\n",
        "\n",
        "n=len(train)\n",
        "var_1=len(train[train['Variant']=='Variant 1'])\n",
        "var_2=len(train[train['Variant']=='Variant 2'])\n",
        "var_3=len(train[train['Variant']=='Variant 3'])\n",
        "var_4=len(train[train['Variant']=='Variant 4'])\n",
        "var_5=len(train[train['Variant']=='Variant 5'])\n",
        "var_6=len(train[train['Variant']=='Variant 6'])\n",
        "\n",
        "print(\"% of Variant 1 in the train dataset: \",var_1*100/n)\n",
        "print(\"% of Variant 2 in the train dataset: \",var_2*100/n)\n",
        "print(\"% of Variant 3 in the train dataset: \",var_3*100/n)\n",
        "print(\"% of Variant 4 in the train dataset: \",var_4*100/n)\n",
        "print(\"% of Variant 5 in the train dataset: \",var_5*100/n)\n",
        "print(\"% of Variant 6 in the train dataset: \",var_6*100/n)"
      ]
    },
    {
      "cell_type": "code",
      "execution_count": null,
      "metadata": {
        "id": "fkDBW-7aDVDW"
      },
      "outputs": [],
      "source": [
        "#Numerical columns\n",
        "num = ['Cough','Shortness of breath','Fatigue','body aches','Headache','Loss of taste','Loss of smell','Nausea','Diarrhea','Misc Symptom 1','Misc Symptom 2','Misc Symptom 3','Misc Symptom 4','Misc Symptom 5','Misc Symptom 6','Misc Symptom 7','Congestion','Sore throat','Age']"
      ]
    },
    {
      "cell_type": "code",
      "execution_count": null,
      "metadata": {
        "colab": {
          "base_uri": "https://localhost:8080/"
        },
        "id": "z9qVYrAFDVDX",
        "outputId": "92b1f31b-e2a2-48fd-81c5-a2048e31b18f"
      },
      "outputs": [
        {
          "output_type": "stream",
          "name": "stdout",
          "text": [
            "                        Cough  Shortness of breath   Fatigue  body aches  \\\n",
            "Cough                1.000000             0.298867  0.080428   -0.073539   \n",
            "Shortness of breath  0.298867             1.000000  0.249152   -0.111692   \n",
            "Fatigue              0.080428             0.249152  1.000000   -0.104900   \n",
            "body aches          -0.073539            -0.111692 -0.104900    1.000000   \n",
            "Headache             0.077186             0.226543  0.361515    0.175966   \n",
            "Loss of taste        0.071215             0.233624  0.270639   -0.052594   \n",
            "Loss of smell        0.152401             0.222474 -0.048803   -0.114333   \n",
            "Nausea              -0.242958            -0.318407 -0.152196    0.037918   \n",
            "Diarrhea             0.042366            -0.142044 -0.346456    0.020545   \n",
            "Misc Symptom 1       0.107844             0.262237  0.309640   -0.051384   \n",
            "Misc Symptom 2       0.039162             0.246800  0.244528   -0.064115   \n",
            "Misc Symptom 3      -0.007581             0.170773  0.286391   -0.101373   \n",
            "Misc Symptom 4       0.045215             0.164893  0.397552   -0.119040   \n",
            "Misc Symptom 5       0.105202            -0.061765 -0.362755   -0.004682   \n",
            "Misc Symptom 6      -0.010886            -0.059224 -0.109174    0.806270   \n",
            "Misc Symptom 7       0.096174             0.190850  0.015589    0.208147   \n",
            "Congestion           0.034185             0.289616  0.448288   -0.086366   \n",
            "Sore throat          0.012387             0.165681  0.340510   -0.092405   \n",
            "Age                 -0.019258             0.027938  0.060862   -0.308825   \n",
            "\n",
            "                     Headache  Loss of taste  Loss of smell    Nausea  \\\n",
            "Cough                0.077186       0.071215       0.152401 -0.242958   \n",
            "Shortness of breath  0.226543       0.233624       0.222474 -0.318407   \n",
            "Fatigue              0.361515       0.270639      -0.048803 -0.152196   \n",
            "body aches           0.175966      -0.052594      -0.114333  0.037918   \n",
            "Headache             1.000000       0.560573       0.222106 -0.185594   \n",
            "Loss of taste        0.560573       1.000000       0.213221 -0.190970   \n",
            "Loss of smell        0.222106       0.213221       1.000000 -0.243119   \n",
            "Nausea              -0.185594      -0.190970      -0.243119  1.000000   \n",
            "Diarrhea            -0.578054      -0.551650      -0.178839 -0.111328   \n",
            "Misc Symptom 1       0.433842       0.479825       0.089572 -0.178814   \n",
            "Misc Symptom 2       0.399465       0.401046       0.307415 -0.145310   \n",
            "Misc Symptom 3       0.462602       0.582466       0.157559 -0.132187   \n",
            "Misc Symptom 4       0.432196       0.409917       0.058938 -0.154094   \n",
            "Misc Symptom 5      -0.542896      -0.517429      -0.106177 -0.154997   \n",
            "Misc Symptom 6       0.131185      -0.079137      -0.116784 -0.037207   \n",
            "Misc Symptom 7       0.306573       0.281982       0.102612 -0.185187   \n",
            "Congestion           0.703599       0.712576       0.275198 -0.218483   \n",
            "Sore throat          0.586514       0.595541       0.192996  0.179080   \n",
            "Age                 -0.024244       0.018028       0.056229 -0.053137   \n",
            "\n",
            "                     Diarrhea  Misc Symptom 1  Misc Symptom 2  Misc Symptom 3  \\\n",
            "Cough                0.042366        0.107844        0.039162       -0.007581   \n",
            "Shortness of breath -0.142044        0.262237        0.246800        0.170773   \n",
            "Fatigue             -0.346456        0.309640        0.244528        0.286391   \n",
            "body aches           0.020545       -0.051384       -0.064115       -0.101373   \n",
            "Headache            -0.578054        0.433842        0.399465        0.462602   \n",
            "Loss of taste       -0.551650        0.479825        0.401046        0.582466   \n",
            "Loss of smell       -0.178839        0.089572        0.307415        0.157559   \n",
            "Nausea              -0.111328       -0.178814       -0.145310       -0.132187   \n",
            "Diarrhea             1.000000       -0.448626       -0.396574       -0.531611   \n",
            "Misc Symptom 1      -0.448626        1.000000        0.275608        0.357081   \n",
            "Misc Symptom 2      -0.396574        0.275608        1.000000        0.285044   \n",
            "Misc Symptom 3      -0.531611        0.357081        0.285044        1.000000   \n",
            "Misc Symptom 4      -0.402764        0.314771        0.265130        0.417541   \n",
            "Misc Symptom 5       0.676895       -0.372831       -0.355817       -0.472204   \n",
            "Misc Symptom 6       0.072400       -0.009105       -0.093370       -0.103055   \n",
            "Misc Symptom 7      -0.247814        0.491756        0.184083        0.228003   \n",
            "Congestion          -0.689856        0.558707        0.527197        0.622058   \n",
            "Sore throat         -0.758165        0.460504        0.419973        0.502183   \n",
            "Age                 -0.009190        0.044902        0.076858        0.017484   \n",
            "\n",
            "                     Misc Symptom 4  Misc Symptom 5  Misc Symptom 6  \\\n",
            "Cough                      0.045215        0.105202       -0.010886   \n",
            "Shortness of breath        0.164893       -0.061765       -0.059224   \n",
            "Fatigue                    0.397552       -0.362755       -0.109174   \n",
            "body aches                -0.119040       -0.004682        0.806270   \n",
            "Headache                   0.432196       -0.542896        0.131185   \n",
            "Loss of taste              0.409917       -0.517429       -0.079137   \n",
            "Loss of smell              0.058938       -0.106177       -0.116784   \n",
            "Nausea                    -0.154094       -0.154997       -0.037207   \n",
            "Diarrhea                  -0.402764        0.676895        0.072400   \n",
            "Misc Symptom 1             0.314771       -0.372831       -0.009105   \n",
            "Misc Symptom 2             0.265130       -0.355817       -0.093370   \n",
            "Misc Symptom 3             0.417541       -0.472204       -0.103055   \n",
            "Misc Symptom 4             1.000000       -0.385994       -0.109071   \n",
            "Misc Symptom 5            -0.385994        1.000000        0.054836   \n",
            "Misc Symptom 6            -0.109071        0.054836        1.000000   \n",
            "Misc Symptom 7             0.184176       -0.188556        0.236508   \n",
            "Congestion                 0.588387       -0.664440       -0.121431   \n",
            "Sore throat                0.435619       -0.712296       -0.145063   \n",
            "Age                        0.102032       -0.037951       -0.281311   \n",
            "\n",
            "                     Misc Symptom 7  Congestion  Sore throat       Age  \n",
            "Cough                      0.096174    0.034185     0.012387 -0.019258  \n",
            "Shortness of breath        0.190850    0.289616     0.165681  0.027938  \n",
            "Fatigue                    0.015589    0.448288     0.340510  0.060862  \n",
            "body aches                 0.208147   -0.086366    -0.092405 -0.308825  \n",
            "Headache                   0.306573    0.703599     0.586514 -0.024244  \n",
            "Loss of taste              0.281982    0.712576     0.595541  0.018028  \n",
            "Loss of smell              0.102612    0.275198     0.192996  0.056229  \n",
            "Nausea                    -0.185187   -0.218483     0.179080 -0.053137  \n",
            "Diarrhea                  -0.247814   -0.689856    -0.758165 -0.009190  \n",
            "Misc Symptom 1             0.491756    0.558707     0.460504  0.044902  \n",
            "Misc Symptom 2             0.184083    0.527197     0.419973  0.076858  \n",
            "Misc Symptom 3             0.228003    0.622058     0.502183  0.017484  \n",
            "Misc Symptom 4             0.184176    0.588387     0.435619  0.102032  \n",
            "Misc Symptom 5            -0.188556   -0.664440    -0.712296 -0.037951  \n",
            "Misc Symptom 6             0.236508   -0.121431    -0.145063 -0.281311  \n",
            "Misc Symptom 7             1.000000    0.313748     0.217588 -0.107587  \n",
            "Congestion                 0.313748    1.000000     0.754285  0.084772  \n",
            "Sore throat                0.217588    0.754285     1.000000  0.039198  \n",
            "Age                       -0.107587    0.084772     0.039198  1.000000  \n"
          ]
        }
      ],
      "source": [
        "#Finding correlation between numerical columns\n",
        "corr_df = train[num]\n",
        "cor = corr_df.corr(method='pearson')\n",
        "print(cor)"
      ]
    },
    {
      "cell_type": "code",
      "execution_count": null,
      "metadata": {
        "colab": {
          "base_uri": "https://localhost:8080/",
          "height": 707
        },
        "id": "s2ayzX0fDVDY",
        "outputId": "2f7e4db6-a907-4eb4-aded-46fad503d3e8"
      },
      "outputs": [
        {
          "output_type": "stream",
          "name": "stderr",
          "text": [
            "/usr/local/lib/python3.7/dist-packages/ipykernel_launcher.py:3: DeprecationWarning: `np.bool` is a deprecated alias for the builtin `bool`. To silence this warning, use `bool` by itself. Doing this will not modify any behavior and is safe. If you specifically wanted the numpy scalar type, use `np.bool_` here.\n",
            "Deprecated in NumPy 1.20; for more details and guidance: https://numpy.org/devdocs/release/1.20.0-notes.html#deprecations\n",
            "  This is separate from the ipykernel package so we can avoid doing imports until\n"
          ]
        },
        {
          "output_type": "display_data",
          "data": {
            "text/plain": [
              "<Figure size 720x720 with 2 Axes>"
            ],
            "image/png": "[encoded data removed]"
          },
          "metadata": {
            "needs_background": "light"
          }
        }
      ],
      "source": [
        "fig, ax =plt.subplots(figsize=(10, 10))\n",
        "plt.title(\"Correlation Plot\")\n",
        "sns.heatmap(cor, mask=np.zeros_like(cor, dtype=np.bool), cmap=sns.diverging_palette(220, 10, as_cmap=True),\n",
        "            square=True, ax=ax)\n",
        "plt.show()"
      ]
    },
    {
      "cell_type": "markdown",
      "source": [
        "Considering the number of features, there's no strong correlation between any two variables except Congestion and Sorethroat which has a strong positive correlation of 0.754.\n",
        "\n",
        "Since there is no strong evidence of data redundancy, I keep all the features \n"
      ],
      "metadata": {
        "id": "3vhawIOFY0B0"
      }
    },
    {
      "cell_type": "code",
      "execution_count": null,
      "metadata": {
        "colab": {
          "base_uri": "https://localhost:8080/"
        },
        "id": "lEtvKCMFDVDA",
        "outputId": "dd1d0f8a-c061-4a5f-a8d7-11493318a1f2"
      },
      "outputs": [
        {
          "output_type": "stream",
          "name": "stdout",
          "text": [
            "P-value:  7.491770149439979e-73\n"
          ]
        }
      ],
      "source": [
        "#Chi square test to find the correlation between the features\n",
        "#Variant and Region \n",
        "\n",
        "csq=chi2_contingency(pd.crosstab(train['Variant'], train['Region']))\n",
        "print(\"P-value: \",csq[1])"
      ]
    },
    {
      "cell_type": "code",
      "execution_count": null,
      "metadata": {
        "colab": {
          "base_uri": "https://localhost:8080/"
        },
        "id": "doSXHcHJDVDV",
        "outputId": "998b9f04-1a30-4ddd-a90d-179d89511fe8"
      },
      "outputs": [
        {
          "output_type": "stream",
          "name": "stdout",
          "text": [
            "P-value:  5.255074255448435e-15\n"
          ]
        }
      ],
      "source": [
        "#Chi square test between variant and family history\n",
        "\n",
        "csq1=chi2_contingency(pd.crosstab(train['Variant'], train['family history']))\n",
        "print(\"P-value: \",csq1[1])"
      ]
    },
    {
      "cell_type": "markdown",
      "metadata": {
        "id": "c0OTJJveDVDW"
      },
      "source": [
        "P values for features Region and family history are low. So we can reject our Null Hypothesis which is these features are independent and have no relationship with target variable\n",
        "\n",
        "So these features contribute by providing some information"
      ]
    },
    {
      "cell_type": "code",
      "execution_count": null,
      "metadata": {
        "colab": {
          "base_uri": "https://localhost:8080/",
          "height": 404
        },
        "id": "dBbmenn2DVDY",
        "outputId": "afef00f2-6993-4f0d-bbce-cfb2ad9f432b"
      },
      "outputs": [
        {
          "output_type": "display_data",
          "data": {
            "text/plain": [
              "<Figure size 576x432 with 1 Axes>"
            ],
            "image/png": "[encoded data removed]"
          },
          "metadata": {
            "needs_background": "light"
          }
        }
      ],
      "source": [
        "#Visualize the Region and Variant features \n",
        "\n",
        "fig, ax=plt.subplots(figsize=(8,6))\n",
        "sns.countplot(x='Variant', data=train, hue='Region')\n",
        "ax.set_ylim(0,150)\n",
        "plt.title(\"Impact of Region on Variant\")\n",
        "plt.show()"
      ]
    },
    {
      "cell_type": "markdown",
      "source": [
        "From the grpah, we can understand that\n",
        "\n",
        "1.   Variant 1 is present in all the regions, America has the most while Europe being the least. \n",
        "2.   Europe region has all the Variants. \n",
        "3.   Variant 3, Variant 4 and Variant 6 is present only in the Europe region\n",
        "4.   The America and East Meditteranean regions have only Variant 1 type.\n",
        "\n",
        "\n",
        "\n"
      ],
      "metadata": {
        "id": "DZANs8sFaRPn"
      }
    },
    {
      "cell_type": "code",
      "execution_count": null,
      "metadata": {
        "colab": {
          "base_uri": "https://localhost:8080/",
          "height": 404
        },
        "id": "nHVNExokDVDZ",
        "outputId": "4efabb2c-a77d-4acf-8b46-f41984569c85"
      },
      "outputs": [
        {
          "output_type": "display_data",
          "data": {
            "text/plain": [
              "<Figure size 576x432 with 1 Axes>"
            ],
            "image/png": "[encoded data removed]"
          },
          "metadata": {
            "needs_background": "light"
          }
        }
      ],
      "source": [
        "#Visualize the Family history and Variant features \n",
        "\n",
        "fig, ax=plt.subplots(figsize=(8,6))\n",
        "sns.countplot(x='Variant', data=train, hue='family history')\n",
        "ax.set_ylim(0,150)\n",
        "plt.title(\"Impact of Family history on Survived\")\n",
        "plt.show()"
      ]
    },
    {
      "cell_type": "markdown",
      "source": [
        "By considering the above graph, we can say that people having family history have a high chance of having any of the 6 variants.\n",
        "\n",
        "Irrespective of family history people are attacked by Variant 1, Variant 2 and Variant 6. Whereas, Variant 3, Variant 4 and Variant 5 only for people having a family history."
      ],
      "metadata": {
        "id": "1yLEE_qrcVk9"
      }
    },
    {
      "cell_type": "markdown",
      "metadata": {
        "id": "-9F-PuRDIOjz"
      },
      "source": [
        "# Missing data handling"
      ]
    },
    {
      "cell_type": "code",
      "execution_count": null,
      "metadata": {
        "id": "AiIm2FPaFeeo",
        "colab": {
          "base_uri": "https://localhost:8080/"
        },
        "outputId": "e2bd7363-c127-4bf5-d92c-b014d15132b4"
      },
      "outputs": [
        {
          "output_type": "execute_result",
          "data": {
            "text/plain": [
              "ID                         0\n",
              "Cough                      0\n",
              "Shortness of breath        0\n",
              "Fatigue                    0\n",
              "body aches                 0\n",
              "Headache                  10\n",
              "Loss of taste              0\n",
              "family history             0\n",
              "Loss of smell              0\n",
              "Nausea                    10\n",
              "Diarrhea                   1\n",
              "Misc Symptom 1             1\n",
              "Congestion                 0\n",
              "Sore throat                0\n",
              "Region                     0\n",
              "Misc Symptom 2             0\n",
              "Misc Symptom 3             0\n",
              "Misc Symptom 4             0\n",
              "Misc Symptom 5             0\n",
              "Misc Symptom 6             0\n",
              "Misc Symptom 7             0\n",
              "Pre-existing symptoms    404\n",
              "Age                        0\n",
              "Variant                    0\n",
              "dtype: int64"
            ]
          },
          "metadata": {},
          "execution_count": 14
        }
      ],
      "source": [
        "#Finding the number of NaN values in the dataset\n",
        "\n",
        "train.isna().sum()"
      ]
    },
    {
      "cell_type": "markdown",
      "source": [
        "As we can see, some of the columns in the dataset consist of missing values\n",
        "\n",
        "\n",
        "\n",
        "*   The headache feature has 10 missing values\n",
        "*   The Nausea feature has 10 missing values\n",
        "*   The Diarrhea feature has 1 missing value\n",
        "*   The Misc Symptom 1 feature has 1 missing value\n",
        "*   The pre-existing symptoms columns has 404 missing values\n",
        "\n",
        "\n",
        "\n"
      ],
      "metadata": {
        "id": "-STk_g56dPw8"
      }
    },
    {
      "cell_type": "code",
      "execution_count": null,
      "metadata": {
        "id": "T612P9CjOBGm",
        "colab": {
          "base_uri": "https://localhost:8080/"
        },
        "outputId": "08ba1579-95dd-4ef5-defb-166baec6126d"
      },
      "outputs": [
        {
          "output_type": "execute_result",
          "data": {
            "text/plain": [
              "<matplotlib.axes._subplots.AxesSubplot at 0x7f58ac103350>"
            ]
          },
          "metadata": {},
          "execution_count": 15
        },
        {
          "output_type": "display_data",
          "data": {
            "text/plain": [
              "<Figure size 1800x720 with 2 Axes>"
            ],
            "image/png": "[encoded data removed]"
          },
          "metadata": {
            "needs_background": "light"
          }
        }
      ],
      "source": [
        "#Visualize the missing values in the dataset \n",
        "\n",
        "msno.matrix(train)"
      ]
    },
    {
      "cell_type": "markdown",
      "source": [
        "As we can see the pre-existing symptoms columns is full empty which indicates the missing values in the dataset\n"
      ],
      "metadata": {
        "id": "KjZ_Ylm0f0R4"
      }
    },
    {
      "cell_type": "markdown",
      "source": [
        "**Pre-existing Symptoms**"
      ],
      "metadata": {
        "id": "xlGVZB1UhUgi"
      }
    },
    {
      "cell_type": "code",
      "execution_count": null,
      "metadata": {
        "id": "tqp4Gzj8FVKR",
        "colab": {
          "base_uri": "https://localhost:8080/"
        },
        "outputId": "f820c7e8-a0dd-4619-df18-c3d59b74e731"
      },
      "outputs": [
        {
          "output_type": "execute_result",
          "data": {
            "text/plain": [
              "(412, 23)"
            ]
          },
          "metadata": {},
          "execution_count": 16
        }
      ],
      "source": [
        "# Drop the Pre-existing symptoms column\n",
        "\n",
        "train.drop(['Pre-existing symptoms'],axis=1,inplace=True)\n",
        "train.shape"
      ]
    },
    {
      "cell_type": "markdown",
      "source": [
        "I decided to drop the pre-existing symptoms columns since it had around than 99% entries as missing or NaN.\n",
        "\n",
        "Now, we have 22 features and a target column in our dataframe\n"
      ],
      "metadata": {
        "id": "q8lMXfgIf_le"
      }
    },
    {
      "cell_type": "markdown",
      "source": [
        "**Diarrhea**"
      ],
      "metadata": {
        "id": "CLwZGI6YhaIP"
      }
    },
    {
      "cell_type": "code",
      "execution_count": null,
      "metadata": {
        "id": "mKui7109LPhD",
        "colab": {
          "base_uri": "https://localhost:8080/"
        },
        "outputId": "a16ebcec-27eb-44a1-c24e-3a063ab98556"
      },
      "outputs": [
        {
          "output_type": "stream",
          "name": "stderr",
          "text": [
            "/usr/local/lib/python3.7/dist-packages/seaborn/distributions.py:2619: FutureWarning: `distplot` is a deprecated function and will be removed in a future version. Please adapt your code to use either `displot` (a figure-level function with similar flexibility) or `histplot` (an axes-level function for histograms).\n",
            "  warnings.warn(msg, FutureWarning)\n"
          ]
        },
        {
          "output_type": "execute_result",
          "data": {
            "text/plain": [
              "<matplotlib.axes._subplots.AxesSubplot at 0x7f58ac025a90>"
            ]
          },
          "metadata": {},
          "execution_count": 17
        },
        {
          "output_type": "display_data",
          "data": {
            "text/plain": [
              "<Figure size 432x288 with 1 Axes>"
            ],
            "image/png": "[encoded data removed]"
          },
          "metadata": {
            "needs_background": "light"
          }
        }
      ],
      "source": [
        "#Visualising the distribution of the data\n",
        "\n",
        "sns.distplot(train.Diarrhea)"
      ]
    },
    {
      "cell_type": "code",
      "execution_count": null,
      "metadata": {
        "id": "x34UwutBLqWL"
      },
      "outputs": [],
      "source": [
        "#Mean imputation\n",
        "\n",
        "train.Diarrhea = train.Diarrhea.fillna(train.Diarrhea.mean())"
      ]
    },
    {
      "cell_type": "markdown",
      "source": [
        "Since, the curve appears to be normally distributed, the mean of the column is imputed as the value for the missing data\n"
      ],
      "metadata": {
        "id": "_ybRglRAihHT"
      }
    },
    {
      "cell_type": "markdown",
      "source": [
        "**Misc Symptom 1**"
      ],
      "metadata": {
        "id": "CPfNkNf8isrN"
      }
    },
    {
      "cell_type": "code",
      "execution_count": null,
      "metadata": {
        "id": "-WURMl5YNrev",
        "colab": {
          "base_uri": "https://localhost:8080/"
        },
        "outputId": "e3a4cf0f-a819-459f-d311-23ca207bcaf7"
      },
      "outputs": [
        {
          "output_type": "stream",
          "name": "stderr",
          "text": [
            "/usr/local/lib/python3.7/dist-packages/seaborn/distributions.py:2619: FutureWarning: `distplot` is a deprecated function and will be removed in a future version. Please adapt your code to use either `displot` (a figure-level function with similar flexibility) or `histplot` (an axes-level function for histograms).\n",
            "  warnings.warn(msg, FutureWarning)\n"
          ]
        },
        {
          "output_type": "execute_result",
          "data": {
            "text/plain": [
              "<matplotlib.axes._subplots.AxesSubplot at 0x7f58abf44950>"
            ]
          },
          "metadata": {},
          "execution_count": 19
        },
        {
          "output_type": "display_data",
          "data": {
            "text/plain": [
              "<Figure size 432x288 with 1 Axes>"
            ],
            "image/png": "[encoded data removed]"
          },
          "metadata": {
            "needs_background": "light"
          }
        }
      ],
      "source": [
        "#Visualising the distribution of the data\n",
        "\n",
        "sns.distplot(train['Misc Symptom 1'])"
      ]
    },
    {
      "cell_type": "code",
      "execution_count": null,
      "metadata": {
        "id": "2vOX7tZXMYKz"
      },
      "outputs": [],
      "source": [
        "#Mean imputation\n",
        "\n",
        "train['Misc Symptom 1'] = train['Misc Symptom 1'].fillna(train['Misc Symptom 1'].mean())"
      ]
    },
    {
      "cell_type": "markdown",
      "source": [
        "Since, the curve appears to be normally distributed, the mean of the column is imputed as the value for the missing data"
      ],
      "metadata": {
        "id": "xawCMUkKiwwG"
      }
    },
    {
      "cell_type": "markdown",
      "source": [
        "**Headache**"
      ],
      "metadata": {
        "id": "Byk1MPYpi4gL"
      }
    },
    {
      "cell_type": "code",
      "execution_count": null,
      "metadata": {
        "id": "QsEoQim0OdGl",
        "colab": {
          "base_uri": "https://localhost:8080/"
        },
        "outputId": "08d9ff9c-fc49-4d77-a6c7-7b792b2a4895"
      },
      "outputs": [
        {
          "output_type": "stream",
          "name": "stderr",
          "text": [
            "/usr/local/lib/python3.7/dist-packages/seaborn/distributions.py:2619: FutureWarning: `distplot` is a deprecated function and will be removed in a future version. Please adapt your code to use either `displot` (a figure-level function with similar flexibility) or `histplot` (an axes-level function for histograms).\n",
            "  warnings.warn(msg, FutureWarning)\n"
          ]
        },
        {
          "output_type": "execute_result",
          "data": {
            "text/plain": [
              "<matplotlib.axes._subplots.AxesSubplot at 0x7f58b0e95e50>"
            ]
          },
          "metadata": {},
          "execution_count": 21
        },
        {
          "output_type": "display_data",
          "data": {
            "text/plain": [
              "<Figure size 432x288 with 1 Axes>"
            ],
            "image/png": "[encoded data removed]"
          },
          "metadata": {
            "needs_background": "light"
          }
        }
      ],
      "source": [
        "#Visualising the distribution of the data\n",
        "\n",
        "sns.distplot(train.Headache)"
      ]
    },
    {
      "cell_type": "code",
      "execution_count": null,
      "metadata": {
        "id": "urLJf4y2PfYy"
      },
      "outputs": [],
      "source": [
        "#Median imputation\n",
        "\n",
        "train.Headache = train.Headache.fillna(train.Headache.median())"
      ]
    },
    {
      "cell_type": "markdown",
      "source": [
        "Since, the data is skewed, we use the median value of the column to fill the missing values."
      ],
      "metadata": {
        "id": "boijceGnjnX4"
      }
    },
    {
      "cell_type": "markdown",
      "source": [
        "**Nausea**"
      ],
      "metadata": {
        "id": "kHrqaAxAjuUE"
      }
    },
    {
      "cell_type": "code",
      "execution_count": null,
      "metadata": {
        "id": "60NQm5uNQr_W",
        "colab": {
          "base_uri": "https://localhost:8080/"
        },
        "outputId": "fcbe79f8-3046-4b7a-9023-02aa3272703f"
      },
      "outputs": [
        {
          "output_type": "stream",
          "name": "stderr",
          "text": [
            "/usr/local/lib/python3.7/dist-packages/seaborn/distributions.py:2619: FutureWarning: `distplot` is a deprecated function and will be removed in a future version. Please adapt your code to use either `displot` (a figure-level function with similar flexibility) or `histplot` (an axes-level function for histograms).\n",
            "  warnings.warn(msg, FutureWarning)\n"
          ]
        },
        {
          "output_type": "execute_result",
          "data": {
            "text/plain": [
              "<matplotlib.axes._subplots.AxesSubplot at 0x7f58abf73ad0>"
            ]
          },
          "metadata": {},
          "execution_count": 23
        },
        {
          "output_type": "display_data",
          "data": {
            "text/plain": [
              "<Figure size 432x288 with 1 Axes>"
            ],
            "image/png": "[encoded data removed]"
          },
          "metadata": {
            "needs_background": "light"
          }
        }
      ],
      "source": [
        "#Visualising the distribution of the data\n",
        "\n",
        "sns.distplot(train.Nausea)"
      ]
    },
    {
      "cell_type": "code",
      "execution_count": null,
      "metadata": {
        "id": "zAMnrXecQ1uM"
      },
      "outputs": [],
      "source": [
        "#Mode imputation\n",
        "\n",
        "train.Nausea =  train.Nausea.fillna(train.Nausea.mode()[0])"
      ]
    },
    {
      "cell_type": "markdown",
      "source": [
        "As we can see in the above graph, the data is skewed to the left because of the high frequency of 0's in the column. Therefore, we impute the mode inplace of the missing values"
      ],
      "metadata": {
        "id": "v-AHdJ6jkA4u"
      }
    },
    {
      "cell_type": "code",
      "execution_count": null,
      "metadata": {
        "id": "tuXkjdVgROwx",
        "colab": {
          "base_uri": "https://localhost:8080/"
        },
        "outputId": "67acc959-d173-4f09-85d8-aa434a9bfffb"
      },
      "outputs": [
        {
          "output_type": "execute_result",
          "data": {
            "text/plain": [
              "ID                     0\n",
              "Cough                  0\n",
              "Shortness of breath    0\n",
              "Fatigue                0\n",
              "body aches             0\n",
              "Headache               0\n",
              "Loss of taste          0\n",
              "family history         0\n",
              "Loss of smell          0\n",
              "Nausea                 0\n",
              "Diarrhea               0\n",
              "Misc Symptom 1         0\n",
              "Congestion             0\n",
              "Sore throat            0\n",
              "Region                 0\n",
              "Misc Symptom 2         0\n",
              "Misc Symptom 3         0\n",
              "Misc Symptom 4         0\n",
              "Misc Symptom 5         0\n",
              "Misc Symptom 6         0\n",
              "Misc Symptom 7         0\n",
              "Age                    0\n",
              "Variant                0\n",
              "dtype: int64"
            ]
          },
          "metadata": {},
          "execution_count": 25
        }
      ],
      "source": [
        "train.isna().sum()"
      ]
    },
    {
      "cell_type": "markdown",
      "source": [
        "After all this processing, we can see that there are no missing values in our dataframe"
      ],
      "metadata": {
        "id": "Rzs2_ti4kQqB"
      }
    },
    {
      "cell_type": "markdown",
      "source": [
        "# Statistical Analysis"
      ],
      "metadata": {
        "id": "4I_0BvKCeWJT"
      }
    },
    {
      "cell_type": "code",
      "execution_count": null,
      "metadata": {
        "id": "1OnlqmkrU7HG",
        "colab": {
          "base_uri": "https://localhost:8080/"
        },
        "outputId": "df5c8fc9-8992-45c7-9f03-e38fc578a0ca"
      },
      "outputs": [
        {
          "output_type": "stream",
          "name": "stdout",
          "text": [
            "<class 'pandas.core.frame.DataFrame'>\n",
            "RangeIndex: 412 entries, 0 to 411\n",
            "Data columns (total 23 columns):\n",
            " #   Column               Non-Null Count  Dtype  \n",
            "---  ------               --------------  -----  \n",
            " 0   ID                   412 non-null    int64  \n",
            " 1   Cough                412 non-null    int64  \n",
            " 2   Shortness of breath  412 non-null    int64  \n",
            " 3   Fatigue              412 non-null    int64  \n",
            " 4   body aches           412 non-null    int64  \n",
            " 5   Headache             412 non-null    float64\n",
            " 6   Loss of taste        412 non-null    int64  \n",
            " 7   family history       412 non-null    object \n",
            " 8   Loss of smell        412 non-null    int64  \n",
            " 9   Nausea               412 non-null    float64\n",
            " 10  Diarrhea             412 non-null    float64\n",
            " 11  Misc Symptom 1       412 non-null    float64\n",
            " 12  Congestion           412 non-null    int64  \n",
            " 13  Sore throat          412 non-null    int64  \n",
            " 14  Region               412 non-null    object \n",
            " 15  Misc Symptom 2       412 non-null    int64  \n",
            " 16  Misc Symptom 3       412 non-null    int64  \n",
            " 17  Misc Symptom 4       412 non-null    int64  \n",
            " 18  Misc Symptom 5       412 non-null    int64  \n",
            " 19  Misc Symptom 6       412 non-null    int64  \n",
            " 20  Misc Symptom 7       412 non-null    int64  \n",
            " 21  Age                  412 non-null    int64  \n",
            " 22  Variant              412 non-null    object \n",
            "dtypes: float64(4), int64(16), object(3)\n",
            "memory usage: 74.2+ KB\n"
          ]
        }
      ],
      "source": [
        "#getting the information about the dataset\n",
        "\n",
        "train.info()"
      ]
    },
    {
      "cell_type": "code",
      "execution_count": null,
      "metadata": {
        "id": "jWkfcDfxslxq"
      },
      "outputs": [],
      "source": [
        "#Mentioning the class numbers for the categorical target variable\n",
        "\n",
        "var = {'Variant 1': 1,'Variant 2': 2,'Variant 3': 3,'Variant 4': 4,'Variant 5':5,'Variant 6': 6}\n",
        "\n",
        "train.Variant = [var[item] for item in train.Variant]"
      ]
    },
    {
      "cell_type": "code",
      "execution_count": null,
      "metadata": {
        "id": "AwdhAYhbtGBB",
        "colab": {
          "base_uri": "https://localhost:8080/"
        },
        "outputId": "6874da6a-fea8-4c7f-9439-9f90275ecc61"
      },
      "outputs": [
        {
          "output_type": "execute_result",
          "data": {
            "text/plain": [
              "    ID  Cough  Shortness of breath  Fatigue  body aches  Headache  \\\n",
              "0  309      2                    3        2           0       2.0   \n",
              "1  486      2                    2        1           0       0.0   \n",
              "2  199      3                    3        3           0       2.0   \n",
              "3  495      2                    1        3           0       2.0   \n",
              "4  401      3                    2        2           0       0.0   \n",
              "\n",
              "   Loss of taste family history  Loss of smell  Nausea  ...  Sore throat  \\\n",
              "0              0            Yes              2     0.0  ...            3   \n",
              "1              0            Yes              1     0.0  ...            0   \n",
              "2              0            Yes              2     0.0  ...            3   \n",
              "3              0            Yes              0     0.0  ...            0   \n",
              "4              0            Yes              2     0.0  ...            2   \n",
              "\n",
              "     Region  Misc Symptom 2  Misc Symptom 3 Misc Symptom 4  Misc Symptom 5  \\\n",
              "0  Americas               0               1              2               0   \n",
              "1    Europe               1               0              0               3   \n",
              "2    Europe               3               0              2               0   \n",
              "3    Europe               0               0              0               0   \n",
              "4  Americas               0               0              0               0   \n",
              "\n",
              "   Misc Symptom 6  Misc Symptom 7  Age  Variant  \n",
              "0               0               2   31        1  \n",
              "1               0               0   22        2  \n",
              "2               0               0   18        1  \n",
              "3               0               0   23        3  \n",
              "4               0               0   56        1  \n",
              "\n",
              "[5 rows x 23 columns]"
            ],
            "text/html": [
              "\n",
              "  <div id=\"df-ad5683d6-0ea2-49bc-a926-e2e6fdf9f85b\">\n",
              "    <div class=\"colab-df-container\">\n",
              "      <div>\n",
              "<style scoped>\n",
              "    .dataframe tbody tr th:only-of-type {\n",
              "        vertical-align: middle;\n",
              "    }\n",
              "\n",
              "    .dataframe tbody tr th {\n",
              "        vertical-align: top;\n",
              "    }\n",
              "\n",
              "    .dataframe thead th {\n",
              "        text-align: right;\n",
              "    }\n",
              "</style>\n",
              "<table border=\"1\" class=\"dataframe\">\n",
              "  <thead>\n",
              "    <tr style=\"text-align: right;\">\n",
              "      <th></th>\n",
              "      <th>ID</th>\n",
              "      <th>Cough</th>\n",
              "      <th>Shortness of breath</th>\n",
              "      <th>Fatigue</th>\n",
              "      <th>body aches</th>\n",
              "      <th>Headache</th>\n",
              "      <th>Loss of taste</th>\n",
              "      <th>family history</th>\n",
              "      <th>Loss of smell</th>\n",
              "      <th>Nausea</th>\n",
              "      <th>...</th>\n",
              "      <th>Sore throat</th>\n",
              "      <th>Region</th>\n",
              "      <th>Misc Symptom 2</th>\n",
              "      <th>Misc Symptom 3</th>\n",
              "      <th>Misc Symptom 4</th>\n",
              "      <th>Misc Symptom 5</th>\n",
              "      <th>Misc Symptom 6</th>\n",
              "      <th>Misc Symptom 7</th>\n",
              "      <th>Age</th>\n",
              "      <th>Variant</th>\n",
              "    </tr>\n",
              "  </thead>\n",
              "  <tbody>\n",
              "    <tr>\n",
              "      <th>0</th>\n",
              "      <td>309</td>\n",
              "      <td>2</td>\n",
              "      <td>3</td>\n",
              "      <td>2</td>\n",
              "      <td>0</td>\n",
              "      <td>2.0</td>\n",
              "      <td>0</td>\n",
              "      <td>Yes</td>\n",
              "      <td>2</td>\n",
              "      <td>0.0</td>\n",
              "      <td>...</td>\n",
              "      <td>3</td>\n",
              "      <td>Americas</td>\n",
              "      <td>0</td>\n",
              "      <td>1</td>\n",
              "      <td>2</td>\n",
              "      <td>0</td>\n",
              "      <td>0</td>\n",
              "      <td>2</td>\n",
              "      <td>31</td>\n",
              "      <td>1</td>\n",
              "    </tr>\n",
              "    <tr>\n",
              "      <th>1</th>\n",
              "      <td>486</td>\n",
              "      <td>2</td>\n",
              "      <td>2</td>\n",
              "      <td>1</td>\n",
              "      <td>0</td>\n",
              "      <td>0.0</td>\n",
              "      <td>0</td>\n",
              "      <td>Yes</td>\n",
              "      <td>1</td>\n",
              "      <td>0.0</td>\n",
              "      <td>...</td>\n",
              "      <td>0</td>\n",
              "      <td>Europe</td>\n",
              "      <td>1</td>\n",
              "      <td>0</td>\n",
              "      <td>0</td>\n",
              "      <td>3</td>\n",
              "      <td>0</td>\n",
              "      <td>0</td>\n",
              "      <td>22</td>\n",
              "      <td>2</td>\n",
              "    </tr>\n",
              "    <tr>\n",
              "      <th>2</th>\n",
              "      <td>199</td>\n",
              "      <td>3</td>\n",
              "      <td>3</td>\n",
              "      <td>3</td>\n",
              "      <td>0</td>\n",
              "      <td>2.0</td>\n",
              "      <td>0</td>\n",
              "      <td>Yes</td>\n",
              "      <td>2</td>\n",
              "      <td>0.0</td>\n",
              "      <td>...</td>\n",
              "      <td>3</td>\n",
              "      <td>Europe</td>\n",
              "      <td>3</td>\n",
              "      <td>0</td>\n",
              "      <td>2</td>\n",
              "      <td>0</td>\n",
              "      <td>0</td>\n",
              "      <td>0</td>\n",
              "      <td>18</td>\n",
              "      <td>1</td>\n",
              "    </tr>\n",
              "    <tr>\n",
              "      <th>3</th>\n",
              "      <td>495</td>\n",
              "      <td>2</td>\n",
              "      <td>1</td>\n",
              "      <td>3</td>\n",
              "      <td>0</td>\n",
              "      <td>2.0</td>\n",
              "      <td>0</td>\n",
              "      <td>Yes</td>\n",
              "      <td>0</td>\n",
              "      <td>0.0</td>\n",
              "      <td>...</td>\n",
              "      <td>0</td>\n",
              "      <td>Europe</td>\n",
              "      <td>0</td>\n",
              "      <td>0</td>\n",
              "      <td>0</td>\n",
              "      <td>0</td>\n",
              "      <td>0</td>\n",
              "      <td>0</td>\n",
              "      <td>23</td>\n",
              "      <td>3</td>\n",
              "    </tr>\n",
              "    <tr>\n",
              "      <th>4</th>\n",
              "      <td>401</td>\n",
              "      <td>3</td>\n",
              "      <td>2</td>\n",
              "      <td>2</td>\n",
              "      <td>0</td>\n",
              "      <td>0.0</td>\n",
              "      <td>0</td>\n",
              "      <td>Yes</td>\n",
              "      <td>2</td>\n",
              "      <td>0.0</td>\n",
              "      <td>...</td>\n",
              "      <td>2</td>\n",
              "      <td>Americas</td>\n",
              "      <td>0</td>\n",
              "      <td>0</td>\n",
              "      <td>0</td>\n",
              "      <td>0</td>\n",
              "      <td>0</td>\n",
              "      <td>0</td>\n",
              "      <td>56</td>\n",
              "      <td>1</td>\n",
              "    </tr>\n",
              "  </tbody>\n",
              "</table>\n",
              "<p>5 rows × 23 columns</p>\n",
              "</div>\n",
              "      <button class=\"colab-df-convert\" onclick=\"convertToInteractive('df-ad5683d6-0ea2-49bc-a926-e2e6fdf9f85b')\"\n",
              "              title=\"Convert this dataframe to an interactive table.\"\n",
              "              style=\"display:none;\">\n",
              "        \n",
              "  <svg xmlns=\"http://www.w3.org/2000/svg\" height=\"24px\"viewBox=\"0 0 24 24\"\n",
              "       width=\"24px\">\n",
              "    <path d=\"M0 0h24v24H0V0z\" fill=\"none\"/>\n",
              "    <path d=\"M18.56 5.44l.94 2.06.94-2.06 2.06-.94-2.06-.94-.94-2.06-.94 2.06-2.06.94zm-11 1L8.5 8.5l.94-2.06 2.06-.94-2.06-.94L8.5 2.5l-.94 2.06-2.06.94zm10 10l.94 2.06.94-2.06 2.06-.94-2.06-.94-.94-2.06-.94 2.06-2.06.94z\"/><path d=\"M17.41 7.96l-1.37-1.37c-.4-.4-.92-.59-1.43-.59-.52 0-1.04.2-1.43.59L10.3 9.45l-7.72 7.72c-.78.78-.78 2.05 0 2.83L4 21.41c.39.39.9.59 1.41.59.51 0 1.02-.2 1.41-.59l7.78-7.78 2.81-2.81c.8-.78.8-2.07 0-2.86zM5.41 20L4 18.59l7.72-7.72 1.47 1.35L5.41 20z\"/>\n",
              "  </svg>\n",
              "      </button>\n",
              "      \n",
              "  <style>\n",
              "    .colab-df-container {\n",
              "      display:flex;\n",
              "      flex-wrap:wrap;\n",
              "      gap: 12px;\n",
              "    }\n",
              "\n",
              "    .colab-df-convert {\n",
              "      background-color: #E8F0FE;\n",
              "      border: none;\n",
              "      border-radius: 50%;\n",
              "      cursor: pointer;\n",
              "      display: none;\n",
              "      fill: #1967D2;\n",
              "      height: 32px;\n",
              "      padding: 0 0 0 0;\n",
              "      width: 32px;\n",
              "    }\n",
              "\n",
              "    .colab-df-convert:hover {\n",
              "      background-color: #E2EBFA;\n",
              "      box-shadow: 0px 1px 2px rgba(60, 64, 67, 0.3), 0px 1px 3px 1px rgba(60, 64, 67, 0.15);\n",
              "      fill: #174EA6;\n",
              "    }\n",
              "\n",
              "    [theme=dark] .colab-df-convert {\n",
              "      background-color: #3B4455;\n",
              "      fill: #D2E3FC;\n",
              "    }\n",
              "\n",
              "    [theme=dark] .colab-df-convert:hover {\n",
              "      background-color: #434B5C;\n",
              "      box-shadow: 0px 1px 3px 1px rgba(0, 0, 0, 0.15);\n",
              "      filter: drop-shadow(0px 1px 2px rgba(0, 0, 0, 0.3));\n",
              "      fill: #FFFFFF;\n",
              "    }\n",
              "  </style>\n",
              "\n",
              "      <script>\n",
              "        const buttonEl =\n",
              "          document.querySelector('#df-ad5683d6-0ea2-49bc-a926-e2e6fdf9f85b button.colab-df-convert');\n",
              "        buttonEl.style.display =\n",
              "          google.colab.kernel.accessAllowed ? 'block' : 'none';\n",
              "\n",
              "        async function convertToInteractive(key) {\n",
              "          const element = document.querySelector('#df-ad5683d6-0ea2-49bc-a926-e2e6fdf9f85b');\n",
              "          const dataTable =\n",
              "            await google.colab.kernel.invokeFunction('convertToInteractive',\n",
              "                                                     [key], {});\n",
              "          if (!dataTable) return;\n",
              "\n",
              "          const docLinkHtml = 'Like what you see? Visit the ' +\n",
              "            '<a target=\"_blank\" href=https://colab.research.google.com/notebooks/data_table.ipynb>data table notebook</a>'\n",
              "            + ' to learn more about interactive tables.';\n",
              "          element.innerHTML = '';\n",
              "          dataTable['output_type'] = 'display_data';\n",
              "          await google.colab.output.renderOutput(dataTable, element);\n",
              "          const docLink = document.createElement('div');\n",
              "          docLink.innerHTML = docLinkHtml;\n",
              "          element.appendChild(docLink);\n",
              "        }\n",
              "      </script>\n",
              "    </div>\n",
              "  </div>\n",
              "  "
            ]
          },
          "metadata": {},
          "execution_count": 28
        }
      ],
      "source": [
        "#Displaying the dataframe after replacing target class\n",
        "\n",
        "train.head()"
      ]
    },
    {
      "cell_type": "code",
      "execution_count": null,
      "metadata": {
        "id": "dTBnPfk_WqWV",
        "colab": {
          "base_uri": "https://localhost:8080/"
        },
        "outputId": "4d98660b-df0b-4863-9a54-897d7bb5800b"
      },
      "outputs": [
        {
          "output_type": "execute_result",
          "data": {
            "text/plain": [
              "               ID       Cough  Shortness of breath     Fatigue  body aches  \\\n",
              "count  412.000000  412.000000           412.000000  412.000000  412.000000   \n",
              "mean   290.992718    2.165049             1.941748    1.553398    0.094660   \n",
              "std    166.180939    0.652110             0.698629    0.898533    0.428056   \n",
              "min      1.000000    0.000000             0.000000    0.000000    0.000000   \n",
              "25%    153.750000    2.000000             2.000000    1.000000    0.000000   \n",
              "50%    288.000000    2.000000             2.000000    2.000000    0.000000   \n",
              "75%    428.250000    3.000000             2.000000    2.000000    0.000000   \n",
              "max    587.000000    3.000000             3.000000    3.000000    3.000000   \n",
              "\n",
              "         Headache  Loss of taste  Loss of smell      Nausea    Diarrhea  ...  \\\n",
              "count  412.000000     412.000000     412.000000  412.000000  412.000000  ...   \n",
              "mean     0.745146       0.701456       0.783981    0.169903    1.277372  ...   \n",
              "std      1.058209       1.011225       0.873751    0.631891    1.157205  ...   \n",
              "min      0.000000       0.000000       0.000000    0.000000    0.000000  ...   \n",
              "25%      0.000000       0.000000       0.000000    0.000000    0.000000  ...   \n",
              "50%      0.000000       0.000000       1.000000    0.000000    1.000000  ...   \n",
              "75%      2.000000       2.000000       1.000000    0.000000    2.000000  ...   \n",
              "max      3.000000       3.000000       3.000000    3.000000    3.000000  ...   \n",
              "\n",
              "       Congestion  Sore throat  Misc Symptom 2  Misc Symptom 3  \\\n",
              "count  412.000000   412.000000      412.000000      412.000000   \n",
              "mean     0.905340     1.133495        0.398058        0.480583   \n",
              "std      1.139117     1.181423        0.755706        0.826632   \n",
              "min      0.000000     0.000000        0.000000        0.000000   \n",
              "25%      0.000000     0.000000        0.000000        0.000000   \n",
              "50%      0.000000     1.000000        0.000000        0.000000   \n",
              "75%      2.000000     2.000000        1.000000        1.000000   \n",
              "max      3.000000     3.000000        3.000000        3.000000   \n",
              "\n",
              "       Misc Symptom 4  Misc Symptom 5  Misc Symptom 6  Misc Symptom 7  \\\n",
              "count      412.000000      412.000000      412.000000      412.000000   \n",
              "mean         0.604369        0.973301        0.058252        0.689320   \n",
              "std          0.982217        1.163837        0.329425        1.013573   \n",
              "min          0.000000        0.000000        0.000000        0.000000   \n",
              "25%          0.000000        0.000000        0.000000        0.000000   \n",
              "50%          0.000000        0.000000        0.000000        0.000000   \n",
              "75%          1.000000        2.000000        0.000000        2.000000   \n",
              "max          3.000000        3.000000        3.000000        3.000000   \n",
              "\n",
              "              Age     Variant  \n",
              "count  412.000000  412.000000  \n",
              "mean    37.308252    2.191748  \n",
              "std     14.135756    1.388037  \n",
              "min      0.000000    1.000000  \n",
              "25%     26.000000    1.000000  \n",
              "50%     36.000000    2.000000  \n",
              "75%     49.250000    3.000000  \n",
              "max     75.000000    6.000000  \n",
              "\n",
              "[8 rows x 21 columns]"
            ],
            "text/html": [
              "\n",
              "  <div id=\"df-3d26f798-d4fb-4fee-8ab9-5e25a2628265\">\n",
              "    <div class=\"colab-df-container\">\n",
              "      <div>\n",
              "<style scoped>\n",
              "    .dataframe tbody tr th:only-of-type {\n",
              "        vertical-align: middle;\n",
              "    }\n",
              "\n",
              "    .dataframe tbody tr th {\n",
              "        vertical-align: top;\n",
              "    }\n",
              "\n",
              "    .dataframe thead th {\n",
              "        text-align: right;\n",
              "    }\n",
              "</style>\n",
              "<table border=\"1\" class=\"dataframe\">\n",
              "  <thead>\n",
              "    <tr style=\"text-align: right;\">\n",
              "      <th></th>\n",
              "      <th>ID</th>\n",
              "      <th>Cough</th>\n",
              "      <th>Shortness of breath</th>\n",
              "      <th>Fatigue</th>\n",
              "      <th>body aches</th>\n",
              "      <th>Headache</th>\n",
              "      <th>Loss of taste</th>\n",
              "      <th>Loss of smell</th>\n",
              "      <th>Nausea</th>\n",
              "      <th>Diarrhea</th>\n",
              "      <th>...</th>\n",
              "      <th>Congestion</th>\n",
              "      <th>Sore throat</th>\n",
              "      <th>Misc Symptom 2</th>\n",
              "      <th>Misc Symptom 3</th>\n",
              "      <th>Misc Symptom 4</th>\n",
              "      <th>Misc Symptom 5</th>\n",
              "      <th>Misc Symptom 6</th>\n",
              "      <th>Misc Symptom 7</th>\n",
              "      <th>Age</th>\n",
              "      <th>Variant</th>\n",
              "    </tr>\n",
              "  </thead>\n",
              "  <tbody>\n",
              "    <tr>\n",
              "      <th>count</th>\n",
              "      <td>412.000000</td>\n",
              "      <td>412.000000</td>\n",
              "      <td>412.000000</td>\n",
              "      <td>412.000000</td>\n",
              "      <td>412.000000</td>\n",
              "      <td>412.000000</td>\n",
              "      <td>412.000000</td>\n",
              "      <td>412.000000</td>\n",
              "      <td>412.000000</td>\n",
              "      <td>412.000000</td>\n",
              "      <td>...</td>\n",
              "      <td>412.000000</td>\n",
              "      <td>412.000000</td>\n",
              "      <td>412.000000</td>\n",
              "      <td>412.000000</td>\n",
              "      <td>412.000000</td>\n",
              "      <td>412.000000</td>\n",
              "      <td>412.000000</td>\n",
              "      <td>412.000000</td>\n",
              "      <td>412.000000</td>\n",
              "      <td>412.000000</td>\n",
              "    </tr>\n",
              "    <tr>\n",
              "      <th>mean</th>\n",
              "      <td>290.992718</td>\n",
              "      <td>2.165049</td>\n",
              "      <td>1.941748</td>\n",
              "      <td>1.553398</td>\n",
              "      <td>0.094660</td>\n",
              "      <td>0.745146</td>\n",
              "      <td>0.701456</td>\n",
              "      <td>0.783981</td>\n",
              "      <td>0.169903</td>\n",
              "      <td>1.277372</td>\n",
              "      <td>...</td>\n",
              "      <td>0.905340</td>\n",
              "      <td>1.133495</td>\n",
              "      <td>0.398058</td>\n",
              "      <td>0.480583</td>\n",
              "      <td>0.604369</td>\n",
              "      <td>0.973301</td>\n",
              "      <td>0.058252</td>\n",
              "      <td>0.689320</td>\n",
              "      <td>37.308252</td>\n",
              "      <td>2.191748</td>\n",
              "    </tr>\n",
              "    <tr>\n",
              "      <th>std</th>\n",
              "      <td>166.180939</td>\n",
              "      <td>0.652110</td>\n",
              "      <td>0.698629</td>\n",
              "      <td>0.898533</td>\n",
              "      <td>0.428056</td>\n",
              "      <td>1.058209</td>\n",
              "      <td>1.011225</td>\n",
              "      <td>0.873751</td>\n",
              "      <td>0.631891</td>\n",
              "      <td>1.157205</td>\n",
              "      <td>...</td>\n",
              "      <td>1.139117</td>\n",
              "      <td>1.181423</td>\n",
              "      <td>0.755706</td>\n",
              "      <td>0.826632</td>\n",
              "      <td>0.982217</td>\n",
              "      <td>1.163837</td>\n",
              "      <td>0.329425</td>\n",
              "      <td>1.013573</td>\n",
              "      <td>14.135756</td>\n",
              "      <td>1.388037</td>\n",
              "    </tr>\n",
              "    <tr>\n",
              "      <th>min</th>\n",
              "      <td>1.000000</td>\n",
              "      <td>0.000000</td>\n",
              "      <td>0.000000</td>\n",
              "      <td>0.000000</td>\n",
              "      <td>0.000000</td>\n",
              "      <td>0.000000</td>\n",
              "      <td>0.000000</td>\n",
              "      <td>0.000000</td>\n",
              "      <td>0.000000</td>\n",
              "      <td>0.000000</td>\n",
              "      <td>...</td>\n",
              "      <td>0.000000</td>\n",
              "      <td>0.000000</td>\n",
              "      <td>0.000000</td>\n",
              "      <td>0.000000</td>\n",
              "      <td>0.000000</td>\n",
              "      <td>0.000000</td>\n",
              "      <td>0.000000</td>\n",
              "      <td>0.000000</td>\n",
              "      <td>0.000000</td>\n",
              "      <td>1.000000</td>\n",
              "    </tr>\n",
              "    <tr>\n",
              "      <th>25%</th>\n",
              "      <td>153.750000</td>\n",
              "      <td>2.000000</td>\n",
              "      <td>2.000000</td>\n",
              "      <td>1.000000</td>\n",
              "      <td>0.000000</td>\n",
              "      <td>0.000000</td>\n",
              "      <td>0.000000</td>\n",
              "      <td>0.000000</td>\n",
              "      <td>0.000000</td>\n",
              "      <td>0.000000</td>\n",
              "      <td>...</td>\n",
              "      <td>0.000000</td>\n",
              "      <td>0.000000</td>\n",
              "      <td>0.000000</td>\n",
              "      <td>0.000000</td>\n",
              "      <td>0.000000</td>\n",
              "      <td>0.000000</td>\n",
              "      <td>0.000000</td>\n",
              "      <td>0.000000</td>\n",
              "      <td>26.000000</td>\n",
              "      <td>1.000000</td>\n",
              "    </tr>\n",
              "    <tr>\n",
              "      <th>50%</th>\n",
              "      <td>288.000000</td>\n",
              "      <td>2.000000</td>\n",
              "      <td>2.000000</td>\n",
              "      <td>2.000000</td>\n",
              "      <td>0.000000</td>\n",
              "      <td>0.000000</td>\n",
              "      <td>0.000000</td>\n",
              "      <td>1.000000</td>\n",
              "      <td>0.000000</td>\n",
              "      <td>1.000000</td>\n",
              "      <td>...</td>\n",
              "      <td>0.000000</td>\n",
              "      <td>1.000000</td>\n",
              "      <td>0.000000</td>\n",
              "      <td>0.000000</td>\n",
              "      <td>0.000000</td>\n",
              "      <td>0.000000</td>\n",
              "      <td>0.000000</td>\n",
              "      <td>0.000000</td>\n",
              "      <td>36.000000</td>\n",
              "      <td>2.000000</td>\n",
              "    </tr>\n",
              "    <tr>\n",
              "      <th>75%</th>\n",
              "      <td>428.250000</td>\n",
              "      <td>3.000000</td>\n",
              "      <td>2.000000</td>\n",
              "      <td>2.000000</td>\n",
              "      <td>0.000000</td>\n",
              "      <td>2.000000</td>\n",
              "      <td>2.000000</td>\n",
              "      <td>1.000000</td>\n",
              "      <td>0.000000</td>\n",
              "      <td>2.000000</td>\n",
              "      <td>...</td>\n",
              "      <td>2.000000</td>\n",
              "      <td>2.000000</td>\n",
              "      <td>1.000000</td>\n",
              "      <td>1.000000</td>\n",
              "      <td>1.000000</td>\n",
              "      <td>2.000000</td>\n",
              "      <td>0.000000</td>\n",
              "      <td>2.000000</td>\n",
              "      <td>49.250000</td>\n",
              "      <td>3.000000</td>\n",
              "    </tr>\n",
              "    <tr>\n",
              "      <th>max</th>\n",
              "      <td>587.000000</td>\n",
              "      <td>3.000000</td>\n",
              "      <td>3.000000</td>\n",
              "      <td>3.000000</td>\n",
              "      <td>3.000000</td>\n",
              "      <td>3.000000</td>\n",
              "      <td>3.000000</td>\n",
              "      <td>3.000000</td>\n",
              "      <td>3.000000</td>\n",
              "      <td>3.000000</td>\n",
              "      <td>...</td>\n",
              "      <td>3.000000</td>\n",
              "      <td>3.000000</td>\n",
              "      <td>3.000000</td>\n",
              "      <td>3.000000</td>\n",
              "      <td>3.000000</td>\n",
              "      <td>3.000000</td>\n",
              "      <td>3.000000</td>\n",
              "      <td>3.000000</td>\n",
              "      <td>75.000000</td>\n",
              "      <td>6.000000</td>\n",
              "    </tr>\n",
              "  </tbody>\n",
              "</table>\n",
              "<p>8 rows × 21 columns</p>\n",
              "</div>\n",
              "      <button class=\"colab-df-convert\" onclick=\"convertToInteractive('df-3d26f798-d4fb-4fee-8ab9-5e25a2628265')\"\n",
              "              title=\"Convert this dataframe to an interactive table.\"\n",
              "              style=\"display:none;\">\n",
              "        \n",
              "  <svg xmlns=\"http://www.w3.org/2000/svg\" height=\"24px\"viewBox=\"0 0 24 24\"\n",
              "       width=\"24px\">\n",
              "    <path d=\"M0 0h24v24H0V0z\" fill=\"none\"/>\n",
              "    <path d=\"M18.56 5.44l.94 2.06.94-2.06 2.06-.94-2.06-.94-.94-2.06-.94 2.06-2.06.94zm-11 1L8.5 8.5l.94-2.06 2.06-.94-2.06-.94L8.5 2.5l-.94 2.06-2.06.94zm10 10l.94 2.06.94-2.06 2.06-.94-2.06-.94-.94-2.06-.94 2.06-2.06.94z\"/><path d=\"M17.41 7.96l-1.37-1.37c-.4-.4-.92-.59-1.43-.59-.52 0-1.04.2-1.43.59L10.3 9.45l-7.72 7.72c-.78.78-.78 2.05 0 2.83L4 21.41c.39.39.9.59 1.41.59.51 0 1.02-.2 1.41-.59l7.78-7.78 2.81-2.81c.8-.78.8-2.07 0-2.86zM5.41 20L4 18.59l7.72-7.72 1.47 1.35L5.41 20z\"/>\n",
              "  </svg>\n",
              "      </button>\n",
              "      \n",
              "  <style>\n",
              "    .colab-df-container {\n",
              "      display:flex;\n",
              "      flex-wrap:wrap;\n",
              "      gap: 12px;\n",
              "    }\n",
              "\n",
              "    .colab-df-convert {\n",
              "      background-color: #E8F0FE;\n",
              "      border: none;\n",
              "      border-radius: 50%;\n",
              "      cursor: pointer;\n",
              "      display: none;\n",
              "      fill: #1967D2;\n",
              "      height: 32px;\n",
              "      padding: 0 0 0 0;\n",
              "      width: 32px;\n",
              "    }\n",
              "\n",
              "    .colab-df-convert:hover {\n",
              "      background-color: #E2EBFA;\n",
              "      box-shadow: 0px 1px 2px rgba(60, 64, 67, 0.3), 0px 1px 3px 1px rgba(60, 64, 67, 0.15);\n",
              "      fill: #174EA6;\n",
              "    }\n",
              "\n",
              "    [theme=dark] .colab-df-convert {\n",
              "      background-color: #3B4455;\n",
              "      fill: #D2E3FC;\n",
              "    }\n",
              "\n",
              "    [theme=dark] .colab-df-convert:hover {\n",
              "      background-color: #434B5C;\n",
              "      box-shadow: 0px 1px 3px 1px rgba(0, 0, 0, 0.15);\n",
              "      filter: drop-shadow(0px 1px 2px rgba(0, 0, 0, 0.3));\n",
              "      fill: #FFFFFF;\n",
              "    }\n",
              "  </style>\n",
              "\n",
              "      <script>\n",
              "        const buttonEl =\n",
              "          document.querySelector('#df-3d26f798-d4fb-4fee-8ab9-5e25a2628265 button.colab-df-convert');\n",
              "        buttonEl.style.display =\n",
              "          google.colab.kernel.accessAllowed ? 'block' : 'none';\n",
              "\n",
              "        async function convertToInteractive(key) {\n",
              "          const element = document.querySelector('#df-3d26f798-d4fb-4fee-8ab9-5e25a2628265');\n",
              "          const dataTable =\n",
              "            await google.colab.kernel.invokeFunction('convertToInteractive',\n",
              "                                                     [key], {});\n",
              "          if (!dataTable) return;\n",
              "\n",
              "          const docLinkHtml = 'Like what you see? Visit the ' +\n",
              "            '<a target=\"_blank\" href=https://colab.research.google.com/notebooks/data_table.ipynb>data table notebook</a>'\n",
              "            + ' to learn more about interactive tables.';\n",
              "          element.innerHTML = '';\n",
              "          dataTable['output_type'] = 'display_data';\n",
              "          await google.colab.output.renderOutput(dataTable, element);\n",
              "          const docLink = document.createElement('div');\n",
              "          docLink.innerHTML = docLinkHtml;\n",
              "          element.appendChild(docLink);\n",
              "        }\n",
              "      </script>\n",
              "    </div>\n",
              "  </div>\n",
              "  "
            ]
          },
          "metadata": {},
          "execution_count": 29
        }
      ],
      "source": [
        "#Finding the basic statistics of the column variables\n",
        "\n",
        "train.describe()"
      ]
    },
    {
      "cell_type": "code",
      "execution_count": null,
      "metadata": {
        "id": "3NJrw34Xk38m",
        "colab": {
          "base_uri": "https://localhost:8080/"
        },
        "outputId": "1fec9045-1f25-4ddb-9306-c952a39170cb"
      },
      "outputs": [
        {
          "output_type": "execute_result",
          "data": {
            "text/plain": [
              "                           ID     Cough  Shortness of breath   Fatigue  \\\n",
              "ID                   1.000000 -0.065077             0.027031 -0.009440   \n",
              "Cough               -0.065077  1.000000             0.298867  0.080428   \n",
              "Shortness of breath  0.027031  0.298867             1.000000  0.249152   \n",
              "Fatigue             -0.009440  0.080428             0.249152  1.000000   \n",
              "body aches          -0.052835 -0.073539            -0.111692 -0.104900   \n",
              "Headache             0.049480  0.071681             0.223411  0.355960   \n",
              "Loss of taste        0.082516  0.071215             0.233624  0.270639   \n",
              "Loss of smell       -0.003630  0.152401             0.222474 -0.048803   \n",
              "Nausea              -0.041533 -0.239454            -0.313727 -0.144577   \n",
              "Diarrhea            -0.035047  0.042362            -0.141646 -0.345191   \n",
              "Misc Symptom 1       0.083968  0.107836             0.261655  0.308660   \n",
              "Congestion           0.045458  0.034185             0.289616  0.448288   \n",
              "Sore throat          0.056244  0.012387             0.165681  0.340510   \n",
              "Misc Symptom 2      -0.050679  0.039162             0.246800  0.244528   \n",
              "Misc Symptom 3       0.163134 -0.007581             0.170773  0.286391   \n",
              "Misc Symptom 4       0.053451  0.045215             0.164893  0.397552   \n",
              "Misc Symptom 5      -0.052397  0.105202            -0.061765 -0.362755   \n",
              "Misc Symptom 6      -0.000037 -0.010886            -0.059224 -0.109174   \n",
              "Misc Symptom 7       0.065914  0.096174             0.190850  0.015589   \n",
              "Age                  0.019960 -0.019258             0.027938  0.060862   \n",
              "Variant             -0.052914 -0.247404            -0.440084 -0.311586   \n",
              "\n",
              "                     body aches  Headache  Loss of taste  Loss of smell  \\\n",
              "ID                    -0.052835  0.049480       0.082516      -0.003630   \n",
              "Cough                 -0.073539  0.071681       0.071215       0.152401   \n",
              "Shortness of breath   -0.111692  0.223411       0.233624       0.222474   \n",
              "Fatigue               -0.104900  0.355960       0.270639      -0.048803   \n",
              "body aches             1.000000  0.166187      -0.052594      -0.114333   \n",
              "Headache               0.166187  1.000000       0.551727       0.216618   \n",
              "Loss of taste         -0.052594  0.551727       1.000000       0.213221   \n",
              "Loss of smell         -0.114333  0.216618       0.213221       1.000000   \n",
              "Nausea                 0.039344 -0.178878      -0.186968      -0.241842   \n",
              "Diarrhea               0.020544 -0.566572      -0.551327      -0.178826   \n",
              "Misc Symptom 1        -0.051381  0.427058       0.479543       0.089484   \n",
              "Congestion            -0.086366  0.692452       0.712576       0.275198   \n",
              "Sore throat           -0.092405  0.572208       0.595541       0.192996   \n",
              "Misc Symptom 2        -0.064115  0.394908       0.401046       0.307415   \n",
              "Misc Symptom 3        -0.101373  0.446318       0.582466       0.157559   \n",
              "Misc Symptom 4        -0.119040  0.429455       0.409917       0.058938   \n",
              "Misc Symptom 5        -0.004682 -0.525116      -0.517429      -0.106177   \n",
              "Misc Symptom 6         0.806270  0.133426      -0.079137      -0.116784   \n",
              "Misc Symptom 7         0.208147  0.309370       0.281982       0.102612   \n",
              "Age                   -0.308825 -0.026778       0.018028       0.056229   \n",
              "Variant                0.415735 -0.425494      -0.534619      -0.485363   \n",
              "\n",
              "                       Nausea  Diarrhea  ...  Congestion  Sore throat  \\\n",
              "ID                  -0.041533 -0.035047  ...    0.045458     0.056244   \n",
              "Cough               -0.239454  0.042362  ...    0.034185     0.012387   \n",
              "Shortness of breath -0.313727 -0.141646  ...    0.289616     0.165681   \n",
              "Fatigue             -0.144577 -0.345191  ...    0.448288     0.340510   \n",
              "body aches           0.039344  0.020544  ...   -0.086366    -0.092405   \n",
              "Headache            -0.178878 -0.566572  ...    0.692452     0.572208   \n",
              "Loss of taste       -0.186968 -0.551327  ...    0.712576     0.595541   \n",
              "Loss of smell       -0.241842 -0.178826  ...    0.275198     0.192996   \n",
              "Nausea               1.000000 -0.111189  ...   -0.214219     0.178132   \n",
              "Diarrhea            -0.111189  1.000000  ...   -0.689324    -0.757313   \n",
              "Misc Symptom 1      -0.174362 -0.447202  ...    0.558277     0.459987   \n",
              "Congestion          -0.214219 -0.689324  ...    1.000000     0.754285   \n",
              "Sore throat          0.178132 -0.757313  ...    0.754285     1.000000   \n",
              "Misc Symptom 2      -0.141974 -0.396439  ...    0.527197     0.419973   \n",
              "Misc Symptom 3      -0.128752 -0.531392  ...    0.622058     0.502183   \n",
              "Misc Symptom 4      -0.150167 -0.402578  ...    0.588387     0.435619   \n",
              "Misc Symptom 5      -0.152622  0.676252  ...   -0.664440    -0.712296   \n",
              "Misc Symptom 6      -0.035973  0.072397  ...   -0.121431    -0.145063   \n",
              "Misc Symptom 7      -0.183307 -0.247308  ...    0.313748     0.217588   \n",
              "Age                 -0.056270 -0.009189  ...    0.084772     0.039198   \n",
              "Variant              0.523124  0.363678  ...   -0.668652    -0.448893   \n",
              "\n",
              "                     Misc Symptom 2  Misc Symptom 3  Misc Symptom 4  \\\n",
              "ID                        -0.050679        0.163134        0.053451   \n",
              "Cough                      0.039162       -0.007581        0.045215   \n",
              "Shortness of breath        0.246800        0.170773        0.164893   \n",
              "Fatigue                    0.244528        0.286391        0.397552   \n",
              "body aches                -0.064115       -0.101373       -0.119040   \n",
              "Headache                   0.394908        0.446318        0.429455   \n",
              "Loss of taste              0.401046        0.582466        0.409917   \n",
              "Loss of smell              0.307415        0.157559        0.058938   \n",
              "Nausea                    -0.141974       -0.128752       -0.150167   \n",
              "Diarrhea                  -0.396439       -0.531392       -0.402578   \n",
              "Misc Symptom 1             0.275515        0.356934        0.314625   \n",
              "Congestion                 0.527197        0.622058        0.588387   \n",
              "Sore throat                0.419973        0.502183        0.435619   \n",
              "Misc Symptom 2             1.000000        0.285044        0.265130   \n",
              "Misc Symptom 3             0.285044        1.000000        0.417541   \n",
              "Misc Symptom 4             0.265130        0.417541        1.000000   \n",
              "Misc Symptom 5            -0.355817       -0.472204       -0.385994   \n",
              "Misc Symptom 6            -0.093370       -0.103055       -0.109071   \n",
              "Misc Symptom 7             0.184083        0.228003        0.184176   \n",
              "Age                        0.076858        0.017484        0.102032   \n",
              "Variant                   -0.420875       -0.481289       -0.393950   \n",
              "\n",
              "                     Misc Symptom 5  Misc Symptom 6  Misc Symptom 7       Age  \\\n",
              "ID                        -0.052397       -0.000037        0.065914  0.019960   \n",
              "Cough                      0.105202       -0.010886        0.096174 -0.019258   \n",
              "Shortness of breath       -0.061765       -0.059224        0.190850  0.027938   \n",
              "Fatigue                   -0.362755       -0.109174        0.015589  0.060862   \n",
              "body aches                -0.004682        0.806270        0.208147 -0.308825   \n",
              "Headache                  -0.525116        0.133426        0.309370 -0.026778   \n",
              "Loss of taste             -0.517429       -0.079137        0.281982  0.018028   \n",
              "Loss of smell             -0.106177       -0.116784        0.102612  0.056229   \n",
              "Nausea                    -0.152622       -0.035973       -0.183307 -0.056270   \n",
              "Diarrhea                   0.676252        0.072397       -0.247308 -0.009189   \n",
              "Misc Symptom 1            -0.372513       -0.009104        0.491478  0.044845   \n",
              "Congestion                -0.664440       -0.121431        0.313748  0.084772   \n",
              "Sore throat               -0.712296       -0.145063        0.217588  0.039198   \n",
              "Misc Symptom 2            -0.355817       -0.093370        0.184083  0.076858   \n",
              "Misc Symptom 3            -0.472204       -0.103055        0.228003  0.017484   \n",
              "Misc Symptom 4            -0.385994       -0.109071        0.184176  0.102032   \n",
              "Misc Symptom 5             1.000000        0.054836       -0.188556 -0.037951   \n",
              "Misc Symptom 6             0.054836        1.000000        0.236508 -0.281311   \n",
              "Misc Symptom 7            -0.188556        0.236508        1.000000 -0.107587   \n",
              "Age                       -0.037951       -0.281311       -0.107587  1.000000   \n",
              "Variant                    0.313441        0.417164       -0.263662 -0.180594   \n",
              "\n",
              "                      Variant  \n",
              "ID                  -0.052914  \n",
              "Cough               -0.247404  \n",
              "Shortness of breath -0.440084  \n",
              "Fatigue             -0.311586  \n",
              "body aches           0.415735  \n",
              "Headache            -0.425494  \n",
              "Loss of taste       -0.534619  \n",
              "Loss of smell       -0.485363  \n",
              "Nausea               0.523124  \n",
              "Diarrhea             0.363678  \n",
              "Misc Symptom 1      -0.433834  \n",
              "Congestion          -0.668652  \n",
              "Sore throat         -0.448893  \n",
              "Misc Symptom 2      -0.420875  \n",
              "Misc Symptom 3      -0.481289  \n",
              "Misc Symptom 4      -0.393950  \n",
              "Misc Symptom 5       0.313441  \n",
              "Misc Symptom 6       0.417164  \n",
              "Misc Symptom 7      -0.263662  \n",
              "Age                 -0.180594  \n",
              "Variant              1.000000  \n",
              "\n",
              "[21 rows x 21 columns]"
            ],
            "text/html": [
              "\n",
              "  <div id=\"df-2e505805-64cf-4c33-9e32-6e61003ad195\">\n",
              "    <div class=\"colab-df-container\">\n",
              "      <div>\n",
              "<style scoped>\n",
              "    .dataframe tbody tr th:only-of-type {\n",
              "        vertical-align: middle;\n",
              "    }\n",
              "\n",
              "    .dataframe tbody tr th {\n",
              "        vertical-align: top;\n",
              "    }\n",
              "\n",
              "    .dataframe thead th {\n",
              "        text-align: right;\n",
              "    }\n",
              "</style>\n",
              "<table border=\"1\" class=\"dataframe\">\n",
              "  <thead>\n",
              "    <tr style=\"text-align: right;\">\n",
              "      <th></th>\n",
              "      <th>ID</th>\n",
              "      <th>Cough</th>\n",
              "      <th>Shortness of breath</th>\n",
              "      <th>Fatigue</th>\n",
              "      <th>body aches</th>\n",
              "      <th>Headache</th>\n",
              "      <th>Loss of taste</th>\n",
              "      <th>Loss of smell</th>\n",
              "      <th>Nausea</th>\n",
              "      <th>Diarrhea</th>\n",
              "      <th>...</th>\n",
              "      <th>Congestion</th>\n",
              "      <th>Sore throat</th>\n",
              "      <th>Misc Symptom 2</th>\n",
              "      <th>Misc Symptom 3</th>\n",
              "      <th>Misc Symptom 4</th>\n",
              "      <th>Misc Symptom 5</th>\n",
              "      <th>Misc Symptom 6</th>\n",
              "      <th>Misc Symptom 7</th>\n",
              "      <th>Age</th>\n",
              "      <th>Variant</th>\n",
              "    </tr>\n",
              "  </thead>\n",
              "  <tbody>\n",
              "    <tr>\n",
              "      <th>ID</th>\n",
              "      <td>1.000000</td>\n",
              "      <td>-0.065077</td>\n",
              "      <td>0.027031</td>\n",
              "      <td>-0.009440</td>\n",
              "      <td>-0.052835</td>\n",
              "      <td>0.049480</td>\n",
              "      <td>0.082516</td>\n",
              "      <td>-0.003630</td>\n",
              "      <td>-0.041533</td>\n",
              "      <td>-0.035047</td>\n",
              "      <td>...</td>\n",
              "      <td>0.045458</td>\n",
              "      <td>0.056244</td>\n",
              "      <td>-0.050679</td>\n",
              "      <td>0.163134</td>\n",
              "      <td>0.053451</td>\n",
              "      <td>-0.052397</td>\n",
              "      <td>-0.000037</td>\n",
              "      <td>0.065914</td>\n",
              "      <td>0.019960</td>\n",
              "      <td>-0.052914</td>\n",
              "    </tr>\n",
              "    <tr>\n",
              "      <th>Cough</th>\n",
              "      <td>-0.065077</td>\n",
              "      <td>1.000000</td>\n",
              "      <td>0.298867</td>\n",
              "      <td>0.080428</td>\n",
              "      <td>-0.073539</td>\n",
              "      <td>0.071681</td>\n",
              "      <td>0.071215</td>\n",
              "      <td>0.152401</td>\n",
              "      <td>-0.239454</td>\n",
              "      <td>0.042362</td>\n",
              "      <td>...</td>\n",
              "      <td>0.034185</td>\n",
              "      <td>0.012387</td>\n",
              "      <td>0.039162</td>\n",
              "      <td>-0.007581</td>\n",
              "      <td>0.045215</td>\n",
              "      <td>0.105202</td>\n",
              "      <td>-0.010886</td>\n",
              "      <td>0.096174</td>\n",
              "      <td>-0.019258</td>\n",
              "      <td>-0.247404</td>\n",
              "    </tr>\n",
              "    <tr>\n",
              "      <th>Shortness of breath</th>\n",
              "      <td>0.027031</td>\n",
              "      <td>0.298867</td>\n",
              "      <td>1.000000</td>\n",
              "      <td>0.249152</td>\n",
              "      <td>-0.111692</td>\n",
              "      <td>0.223411</td>\n",
              "      <td>0.233624</td>\n",
              "      <td>0.222474</td>\n",
              "      <td>-0.313727</td>\n",
              "      <td>-0.141646</td>\n",
              "      <td>...</td>\n",
              "      <td>0.289616</td>\n",
              "      <td>0.165681</td>\n",
              "      <td>0.246800</td>\n",
              "      <td>0.170773</td>\n",
              "      <td>0.164893</td>\n",
              "      <td>-0.061765</td>\n",
              "      <td>-0.059224</td>\n",
              "      <td>0.190850</td>\n",
              "      <td>0.027938</td>\n",
              "      <td>-0.440084</td>\n",
              "    </tr>\n",
              "    <tr>\n",
              "      <th>Fatigue</th>\n",
              "      <td>-0.009440</td>\n",
              "      <td>0.080428</td>\n",
              "      <td>0.249152</td>\n",
              "      <td>1.000000</td>\n",
              "      <td>-0.104900</td>\n",
              "      <td>0.355960</td>\n",
              "      <td>0.270639</td>\n",
              "      <td>-0.048803</td>\n",
              "      <td>-0.144577</td>\n",
              "      <td>-0.345191</td>\n",
              "      <td>...</td>\n",
              "      <td>0.448288</td>\n",
              "      <td>0.340510</td>\n",
              "      <td>0.244528</td>\n",
              "      <td>0.286391</td>\n",
              "      <td>0.397552</td>\n",
              "      <td>-0.362755</td>\n",
              "      <td>-0.109174</td>\n",
              "      <td>0.015589</td>\n",
              "      <td>0.060862</td>\n",
              "      <td>-0.311586</td>\n",
              "    </tr>\n",
              "    <tr>\n",
              "      <th>body aches</th>\n",
              "      <td>-0.052835</td>\n",
              "      <td>-0.073539</td>\n",
              "      <td>-0.111692</td>\n",
              "      <td>-0.104900</td>\n",
              "      <td>1.000000</td>\n",
              "      <td>0.166187</td>\n",
              "      <td>-0.052594</td>\n",
              "      <td>-0.114333</td>\n",
              "      <td>0.039344</td>\n",
              "      <td>0.020544</td>\n",
              "      <td>...</td>\n",
              "      <td>-0.086366</td>\n",
              "      <td>-0.092405</td>\n",
              "      <td>-0.064115</td>\n",
              "      <td>-0.101373</td>\n",
              "      <td>-0.119040</td>\n",
              "      <td>-0.004682</td>\n",
              "      <td>0.806270</td>\n",
              "      <td>0.208147</td>\n",
              "      <td>-0.308825</td>\n",
              "      <td>0.415735</td>\n",
              "    </tr>\n",
              "    <tr>\n",
              "      <th>Headache</th>\n",
              "      <td>0.049480</td>\n",
              "      <td>0.071681</td>\n",
              "      <td>0.223411</td>\n",
              "      <td>0.355960</td>\n",
              "      <td>0.166187</td>\n",
              "      <td>1.000000</td>\n",
              "      <td>0.551727</td>\n",
              "      <td>0.216618</td>\n",
              "      <td>-0.178878</td>\n",
              "      <td>-0.566572</td>\n",
              "      <td>...</td>\n",
              "      <td>0.692452</td>\n",
              "      <td>0.572208</td>\n",
              "      <td>0.394908</td>\n",
              "      <td>0.446318</td>\n",
              "      <td>0.429455</td>\n",
              "      <td>-0.525116</td>\n",
              "      <td>0.133426</td>\n",
              "      <td>0.309370</td>\n",
              "      <td>-0.026778</td>\n",
              "      <td>-0.425494</td>\n",
              "    </tr>\n",
              "    <tr>\n",
              "      <th>Loss of taste</th>\n",
              "      <td>0.082516</td>\n",
              "      <td>0.071215</td>\n",
              "      <td>0.233624</td>\n",
              "      <td>0.270639</td>\n",
              "      <td>-0.052594</td>\n",
              "      <td>0.551727</td>\n",
              "      <td>1.000000</td>\n",
              "      <td>0.213221</td>\n",
              "      <td>-0.186968</td>\n",
              "      <td>-0.551327</td>\n",
              "      <td>...</td>\n",
              "      <td>0.712576</td>\n",
              "      <td>0.595541</td>\n",
              "      <td>0.401046</td>\n",
              "      <td>0.582466</td>\n",
              "      <td>0.409917</td>\n",
              "      <td>-0.517429</td>\n",
              "      <td>-0.079137</td>\n",
              "      <td>0.281982</td>\n",
              "      <td>0.018028</td>\n",
              "      <td>-0.534619</td>\n",
              "    </tr>\n",
              "    <tr>\n",
              "      <th>Loss of smell</th>\n",
              "      <td>-0.003630</td>\n",
              "      <td>0.152401</td>\n",
              "      <td>0.222474</td>\n",
              "      <td>-0.048803</td>\n",
              "      <td>-0.114333</td>\n",
              "      <td>0.216618</td>\n",
              "      <td>0.213221</td>\n",
              "      <td>1.000000</td>\n",
              "      <td>-0.241842</td>\n",
              "      <td>-0.178826</td>\n",
              "      <td>...</td>\n",
              "      <td>0.275198</td>\n",
              "      <td>0.192996</td>\n",
              "      <td>0.307415</td>\n",
              "      <td>0.157559</td>\n",
              "      <td>0.058938</td>\n",
              "      <td>-0.106177</td>\n",
              "      <td>-0.116784</td>\n",
              "      <td>0.102612</td>\n",
              "      <td>0.056229</td>\n",
              "      <td>-0.485363</td>\n",
              "    </tr>\n",
              "    <tr>\n",
              "      <th>Nausea</th>\n",
              "      <td>-0.041533</td>\n",
              "      <td>-0.239454</td>\n",
              "      <td>-0.313727</td>\n",
              "      <td>-0.144577</td>\n",
              "      <td>0.039344</td>\n",
              "      <td>-0.178878</td>\n",
              "      <td>-0.186968</td>\n",
              "      <td>-0.241842</td>\n",
              "      <td>1.000000</td>\n",
              "      <td>-0.111189</td>\n",
              "      <td>...</td>\n",
              "      <td>-0.214219</td>\n",
              "      <td>0.178132</td>\n",
              "      <td>-0.141974</td>\n",
              "      <td>-0.128752</td>\n",
              "      <td>-0.150167</td>\n",
              "      <td>-0.152622</td>\n",
              "      <td>-0.035973</td>\n",
              "      <td>-0.183307</td>\n",
              "      <td>-0.056270</td>\n",
              "      <td>0.523124</td>\n",
              "    </tr>\n",
              "    <tr>\n",
              "      <th>Diarrhea</th>\n",
              "      <td>-0.035047</td>\n",
              "      <td>0.042362</td>\n",
              "      <td>-0.141646</td>\n",
              "      <td>-0.345191</td>\n",
              "      <td>0.020544</td>\n",
              "      <td>-0.566572</td>\n",
              "      <td>-0.551327</td>\n",
              "      <td>-0.178826</td>\n",
              "      <td>-0.111189</td>\n",
              "      <td>1.000000</td>\n",
              "      <td>...</td>\n",
              "      <td>-0.689324</td>\n",
              "      <td>-0.757313</td>\n",
              "      <td>-0.396439</td>\n",
              "      <td>-0.531392</td>\n",
              "      <td>-0.402578</td>\n",
              "      <td>0.676252</td>\n",
              "      <td>0.072397</td>\n",
              "      <td>-0.247308</td>\n",
              "      <td>-0.009189</td>\n",
              "      <td>0.363678</td>\n",
              "    </tr>\n",
              "    <tr>\n",
              "      <th>Misc Symptom 1</th>\n",
              "      <td>0.083968</td>\n",
              "      <td>0.107836</td>\n",
              "      <td>0.261655</td>\n",
              "      <td>0.308660</td>\n",
              "      <td>-0.051381</td>\n",
              "      <td>0.427058</td>\n",
              "      <td>0.479543</td>\n",
              "      <td>0.089484</td>\n",
              "      <td>-0.174362</td>\n",
              "      <td>-0.447202</td>\n",
              "      <td>...</td>\n",
              "      <td>0.558277</td>\n",
              "      <td>0.459987</td>\n",
              "      <td>0.275515</td>\n",
              "      <td>0.356934</td>\n",
              "      <td>0.314625</td>\n",
              "      <td>-0.372513</td>\n",
              "      <td>-0.009104</td>\n",
              "      <td>0.491478</td>\n",
              "      <td>0.044845</td>\n",
              "      <td>-0.433834</td>\n",
              "    </tr>\n",
              "    <tr>\n",
              "      <th>Congestion</th>\n",
              "      <td>0.045458</td>\n",
              "      <td>0.034185</td>\n",
              "      <td>0.289616</td>\n",
              "      <td>0.448288</td>\n",
              "      <td>-0.086366</td>\n",
              "      <td>0.692452</td>\n",
              "      <td>0.712576</td>\n",
              "      <td>0.275198</td>\n",
              "      <td>-0.214219</td>\n",
              "      <td>-0.689324</td>\n",
              "      <td>...</td>\n",
              "      <td>1.000000</td>\n",
              "      <td>0.754285</td>\n",
              "      <td>0.527197</td>\n",
              "      <td>0.622058</td>\n",
              "      <td>0.588387</td>\n",
              "      <td>-0.664440</td>\n",
              "      <td>-0.121431</td>\n",
              "      <td>0.313748</td>\n",
              "      <td>0.084772</td>\n",
              "      <td>-0.668652</td>\n",
              "    </tr>\n",
              "    <tr>\n",
              "      <th>Sore throat</th>\n",
              "      <td>0.056244</td>\n",
              "      <td>0.012387</td>\n",
              "      <td>0.165681</td>\n",
              "      <td>0.340510</td>\n",
              "      <td>-0.092405</td>\n",
              "      <td>0.572208</td>\n",
              "      <td>0.595541</td>\n",
              "      <td>0.192996</td>\n",
              "      <td>0.178132</td>\n",
              "      <td>-0.757313</td>\n",
              "      <td>...</td>\n",
              "      <td>0.754285</td>\n",
              "      <td>1.000000</td>\n",
              "      <td>0.419973</td>\n",
              "      <td>0.502183</td>\n",
              "      <td>0.435619</td>\n",
              "      <td>-0.712296</td>\n",
              "      <td>-0.145063</td>\n",
              "      <td>0.217588</td>\n",
              "      <td>0.039198</td>\n",
              "      <td>-0.448893</td>\n",
              "    </tr>\n",
              "    <tr>\n",
              "      <th>Misc Symptom 2</th>\n",
              "      <td>-0.050679</td>\n",
              "      <td>0.039162</td>\n",
              "      <td>0.246800</td>\n",
              "      <td>0.244528</td>\n",
              "      <td>-0.064115</td>\n",
              "      <td>0.394908</td>\n",
              "      <td>0.401046</td>\n",
              "      <td>0.307415</td>\n",
              "      <td>-0.141974</td>\n",
              "      <td>-0.396439</td>\n",
              "      <td>...</td>\n",
              "      <td>0.527197</td>\n",
              "      <td>0.419973</td>\n",
              "      <td>1.000000</td>\n",
              "      <td>0.285044</td>\n",
              "      <td>0.265130</td>\n",
              "      <td>-0.355817</td>\n",
              "      <td>-0.093370</td>\n",
              "      <td>0.184083</td>\n",
              "      <td>0.076858</td>\n",
              "      <td>-0.420875</td>\n",
              "    </tr>\n",
              "    <tr>\n",
              "      <th>Misc Symptom 3</th>\n",
              "      <td>0.163134</td>\n",
              "      <td>-0.007581</td>\n",
              "      <td>0.170773</td>\n",
              "      <td>0.286391</td>\n",
              "      <td>-0.101373</td>\n",
              "      <td>0.446318</td>\n",
              "      <td>0.582466</td>\n",
              "      <td>0.157559</td>\n",
              "      <td>-0.128752</td>\n",
              "      <td>-0.531392</td>\n",
              "      <td>...</td>\n",
              "      <td>0.622058</td>\n",
              "      <td>0.502183</td>\n",
              "      <td>0.285044</td>\n",
              "      <td>1.000000</td>\n",
              "      <td>0.417541</td>\n",
              "      <td>-0.472204</td>\n",
              "      <td>-0.103055</td>\n",
              "      <td>0.228003</td>\n",
              "      <td>0.017484</td>\n",
              "      <td>-0.481289</td>\n",
              "    </tr>\n",
              "    <tr>\n",
              "      <th>Misc Symptom 4</th>\n",
              "      <td>0.053451</td>\n",
              "      <td>0.045215</td>\n",
              "      <td>0.164893</td>\n",
              "      <td>0.397552</td>\n",
              "      <td>-0.119040</td>\n",
              "      <td>0.429455</td>\n",
              "      <td>0.409917</td>\n",
              "      <td>0.058938</td>\n",
              "      <td>-0.150167</td>\n",
              "      <td>-0.402578</td>\n",
              "      <td>...</td>\n",
              "      <td>0.588387</td>\n",
              "      <td>0.435619</td>\n",
              "      <td>0.265130</td>\n",
              "      <td>0.417541</td>\n",
              "      <td>1.000000</td>\n",
              "      <td>-0.385994</td>\n",
              "      <td>-0.109071</td>\n",
              "      <td>0.184176</td>\n",
              "      <td>0.102032</td>\n",
              "      <td>-0.393950</td>\n",
              "    </tr>\n",
              "    <tr>\n",
              "      <th>Misc Symptom 5</th>\n",
              "      <td>-0.052397</td>\n",
              "      <td>0.105202</td>\n",
              "      <td>-0.061765</td>\n",
              "      <td>-0.362755</td>\n",
              "      <td>-0.004682</td>\n",
              "      <td>-0.525116</td>\n",
              "      <td>-0.517429</td>\n",
              "      <td>-0.106177</td>\n",
              "      <td>-0.152622</td>\n",
              "      <td>0.676252</td>\n",
              "      <td>...</td>\n",
              "      <td>-0.664440</td>\n",
              "      <td>-0.712296</td>\n",
              "      <td>-0.355817</td>\n",
              "      <td>-0.472204</td>\n",
              "      <td>-0.385994</td>\n",
              "      <td>1.000000</td>\n",
              "      <td>0.054836</td>\n",
              "      <td>-0.188556</td>\n",
              "      <td>-0.037951</td>\n",
              "      <td>0.313441</td>\n",
              "    </tr>\n",
              "    <tr>\n",
              "      <th>Misc Symptom 6</th>\n",
              "      <td>-0.000037</td>\n",
              "      <td>-0.010886</td>\n",
              "      <td>-0.059224</td>\n",
              "      <td>-0.109174</td>\n",
              "      <td>0.806270</td>\n",
              "      <td>0.133426</td>\n",
              "      <td>-0.079137</td>\n",
              "      <td>-0.116784</td>\n",
              "      <td>-0.035973</td>\n",
              "      <td>0.072397</td>\n",
              "      <td>...</td>\n",
              "      <td>-0.121431</td>\n",
              "      <td>-0.145063</td>\n",
              "      <td>-0.093370</td>\n",
              "      <td>-0.103055</td>\n",
              "      <td>-0.109071</td>\n",
              "      <td>0.054836</td>\n",
              "      <td>1.000000</td>\n",
              "      <td>0.236508</td>\n",
              "      <td>-0.281311</td>\n",
              "      <td>0.417164</td>\n",
              "    </tr>\n",
              "    <tr>\n",
              "      <th>Misc Symptom 7</th>\n",
              "      <td>0.065914</td>\n",
              "      <td>0.096174</td>\n",
              "      <td>0.190850</td>\n",
              "      <td>0.015589</td>\n",
              "      <td>0.208147</td>\n",
              "      <td>0.309370</td>\n",
              "      <td>0.281982</td>\n",
              "      <td>0.102612</td>\n",
              "      <td>-0.183307</td>\n",
              "      <td>-0.247308</td>\n",
              "      <td>...</td>\n",
              "      <td>0.313748</td>\n",
              "      <td>0.217588</td>\n",
              "      <td>0.184083</td>\n",
              "      <td>0.228003</td>\n",
              "      <td>0.184176</td>\n",
              "      <td>-0.188556</td>\n",
              "      <td>0.236508</td>\n",
              "      <td>1.000000</td>\n",
              "      <td>-0.107587</td>\n",
              "      <td>-0.263662</td>\n",
              "    </tr>\n",
              "    <tr>\n",
              "      <th>Age</th>\n",
              "      <td>0.019960</td>\n",
              "      <td>-0.019258</td>\n",
              "      <td>0.027938</td>\n",
              "      <td>0.060862</td>\n",
              "      <td>-0.308825</td>\n",
              "      <td>-0.026778</td>\n",
              "      <td>0.018028</td>\n",
              "      <td>0.056229</td>\n",
              "      <td>-0.056270</td>\n",
              "      <td>-0.009189</td>\n",
              "      <td>...</td>\n",
              "      <td>0.084772</td>\n",
              "      <td>0.039198</td>\n",
              "      <td>0.076858</td>\n",
              "      <td>0.017484</td>\n",
              "      <td>0.102032</td>\n",
              "      <td>-0.037951</td>\n",
              "      <td>-0.281311</td>\n",
              "      <td>-0.107587</td>\n",
              "      <td>1.000000</td>\n",
              "      <td>-0.180594</td>\n",
              "    </tr>\n",
              "    <tr>\n",
              "      <th>Variant</th>\n",
              "      <td>-0.052914</td>\n",
              "      <td>-0.247404</td>\n",
              "      <td>-0.440084</td>\n",
              "      <td>-0.311586</td>\n",
              "      <td>0.415735</td>\n",
              "      <td>-0.425494</td>\n",
              "      <td>-0.534619</td>\n",
              "      <td>-0.485363</td>\n",
              "      <td>0.523124</td>\n",
              "      <td>0.363678</td>\n",
              "      <td>...</td>\n",
              "      <td>-0.668652</td>\n",
              "      <td>-0.448893</td>\n",
              "      <td>-0.420875</td>\n",
              "      <td>-0.481289</td>\n",
              "      <td>-0.393950</td>\n",
              "      <td>0.313441</td>\n",
              "      <td>0.417164</td>\n",
              "      <td>-0.263662</td>\n",
              "      <td>-0.180594</td>\n",
              "      <td>1.000000</td>\n",
              "    </tr>\n",
              "  </tbody>\n",
              "</table>\n",
              "<p>21 rows × 21 columns</p>\n",
              "</div>\n",
              "      <button class=\"colab-df-convert\" onclick=\"convertToInteractive('df-2e505805-64cf-4c33-9e32-6e61003ad195')\"\n",
              "              title=\"Convert this dataframe to an interactive table.\"\n",
              "              style=\"display:none;\">\n",
              "        \n",
              "  <svg xmlns=\"http://www.w3.org/2000/svg\" height=\"24px\"viewBox=\"0 0 24 24\"\n",
              "       width=\"24px\">\n",
              "    <path d=\"M0 0h24v24H0V0z\" fill=\"none\"/>\n",
              "    <path d=\"M18.56 5.44l.94 2.06.94-2.06 2.06-.94-2.06-.94-.94-2.06-.94 2.06-2.06.94zm-11 1L8.5 8.5l.94-2.06 2.06-.94-2.06-.94L8.5 2.5l-.94 2.06-2.06.94zm10 10l.94 2.06.94-2.06 2.06-.94-2.06-.94-.94-2.06-.94 2.06-2.06.94z\"/><path d=\"M17.41 7.96l-1.37-1.37c-.4-.4-.92-.59-1.43-.59-.52 0-1.04.2-1.43.59L10.3 9.45l-7.72 7.72c-.78.78-.78 2.05 0 2.83L4 21.41c.39.39.9.59 1.41.59.51 0 1.02-.2 1.41-.59l7.78-7.78 2.81-2.81c.8-.78.8-2.07 0-2.86zM5.41 20L4 18.59l7.72-7.72 1.47 1.35L5.41 20z\"/>\n",
              "  </svg>\n",
              "      </button>\n",
              "      \n",
              "  <style>\n",
              "    .colab-df-container {\n",
              "      display:flex;\n",
              "      flex-wrap:wrap;\n",
              "      gap: 12px;\n",
              "    }\n",
              "\n",
              "    .colab-df-convert {\n",
              "      background-color: #E8F0FE;\n",
              "      border: none;\n",
              "      border-radius: 50%;\n",
              "      cursor: pointer;\n",
              "      display: none;\n",
              "      fill: #1967D2;\n",
              "      height: 32px;\n",
              "      padding: 0 0 0 0;\n",
              "      width: 32px;\n",
              "    }\n",
              "\n",
              "    .colab-df-convert:hover {\n",
              "      background-color: #E2EBFA;\n",
              "      box-shadow: 0px 1px 2px rgba(60, 64, 67, 0.3), 0px 1px 3px 1px rgba(60, 64, 67, 0.15);\n",
              "      fill: #174EA6;\n",
              "    }\n",
              "\n",
              "    [theme=dark] .colab-df-convert {\n",
              "      background-color: #3B4455;\n",
              "      fill: #D2E3FC;\n",
              "    }\n",
              "\n",
              "    [theme=dark] .colab-df-convert:hover {\n",
              "      background-color: #434B5C;\n",
              "      box-shadow: 0px 1px 3px 1px rgba(0, 0, 0, 0.15);\n",
              "      filter: drop-shadow(0px 1px 2px rgba(0, 0, 0, 0.3));\n",
              "      fill: #FFFFFF;\n",
              "    }\n",
              "  </style>\n",
              "\n",
              "      <script>\n",
              "        const buttonEl =\n",
              "          document.querySelector('#df-2e505805-64cf-4c33-9e32-6e61003ad195 button.colab-df-convert');\n",
              "        buttonEl.style.display =\n",
              "          google.colab.kernel.accessAllowed ? 'block' : 'none';\n",
              "\n",
              "        async function convertToInteractive(key) {\n",
              "          const element = document.querySelector('#df-2e505805-64cf-4c33-9e32-6e61003ad195');\n",
              "          const dataTable =\n",
              "            await google.colab.kernel.invokeFunction('convertToInteractive',\n",
              "                                                     [key], {});\n",
              "          if (!dataTable) return;\n",
              "\n",
              "          const docLinkHtml = 'Like what you see? Visit the ' +\n",
              "            '<a target=\"_blank\" href=https://colab.research.google.com/notebooks/data_table.ipynb>data table notebook</a>'\n",
              "            + ' to learn more about interactive tables.';\n",
              "          element.innerHTML = '';\n",
              "          dataTable['output_type'] = 'display_data';\n",
              "          await google.colab.output.renderOutput(dataTable, element);\n",
              "          const docLink = document.createElement('div');\n",
              "          docLink.innerHTML = docLinkHtml;\n",
              "          element.appendChild(docLink);\n",
              "        }\n",
              "      </script>\n",
              "    </div>\n",
              "  </div>\n",
              "  "
            ]
          },
          "metadata": {},
          "execution_count": 30
        }
      ],
      "source": [
        "#Finding the correlation between the features and the target variable\n",
        "train.corr()"
      ]
    },
    {
      "cell_type": "markdown",
      "source": [
        "As we can see in the correlation matrix, the Variant is positively fairly correlated with Nausea feature with a correlation coefficient of 0.53. All the other features are correlated weakly."
      ],
      "metadata": {
        "id": "dtzXZ2Vk69Tg"
      }
    },
    {
      "cell_type": "code",
      "execution_count": null,
      "metadata": {
        "id": "NrchmGk4zTZs",
        "colab": {
          "base_uri": "https://localhost:8080/"
        },
        "outputId": "2a97752b-845f-435f-8aaa-9173c46ed024"
      },
      "outputs": [
        {
          "output_type": "execute_result",
          "data": {
            "text/plain": [
              "<matplotlib.axes._subplots.AxesSubplot at 0x7f58ac347a10>"
            ]
          },
          "metadata": {},
          "execution_count": 31
        },
        {
          "output_type": "display_data",
          "data": {
            "text/plain": [
              "<Figure size 2160x720 with 1 Axes>"
            ],
            "image/png": "[encoded data removed]"
          },
          "metadata": {
            "needs_background": "light"
          }
        }
      ],
      "source": [
        "a = ['Cough','Shortness of breath','Fatigue','body aches','Headache','Loss of taste','family history','Loss of smell','Nausea','Diarrhea','Misc Symptom 1','Misc Symptom 2','Misc Symptom 3','Misc Symptom 4','Misc Symptom 5','Misc Symptom 6','Misc Symptom 7','Congestion','Sore throat','Region']\n",
        "\n",
        "plt.figure(figsize=(30,10))\n",
        "train[a].boxplot()"
      ]
    },
    {
      "cell_type": "markdown",
      "source": [
        "From the above boxplot of the features, we can conclude that there are no outliers observed in this dataset"
      ],
      "metadata": {
        "id": "r0DHFuDe8XYg"
      }
    },
    {
      "cell_type": "markdown",
      "metadata": {
        "id": "qvtShM-0C9u9"
      },
      "source": [
        "# Data cleaning\n"
      ]
    },
    {
      "cell_type": "code",
      "execution_count": null,
      "metadata": {
        "id": "z_vqQ8yA7OGY",
        "colab": {
          "base_uri": "https://localhost:8080/"
        },
        "outputId": "fd13ec29-c945-402e-8499-dff2734cacd4"
      },
      "outputs": [
        {
          "output_type": "execute_result",
          "data": {
            "text/plain": [
              "Europe                238\n",
              "Americas               90\n",
              "East Mediterranean     57\n",
              "Africa                 27\n",
              "Name: Region, dtype: int64"
            ]
          },
          "metadata": {},
          "execution_count": 32
        }
      ],
      "source": [
        "train['Region'].value_counts()"
      ]
    },
    {
      "cell_type": "code",
      "execution_count": null,
      "metadata": {
        "id": "KObMAJ_u62Af"
      },
      "outputs": [],
      "source": [
        "class1 = {\n",
        "    'Yes': 0,\n",
        "    'No': 1\n",
        "}\n",
        "class2 = {\n",
        "    'Europe': 1,\n",
        "    'Americas': 2,\n",
        "    'East Mediterranean': 3,\n",
        "    'Africa': 4\n",
        "}\n",
        "\n",
        "train['family history'] = [class1[item] for item in train['family history']]\n",
        "train.Region = [class2[item] for item in train.Region]"
      ]
    },
    {
      "cell_type": "code",
      "execution_count": null,
      "metadata": {
        "id": "t11BlGU27-PO"
      },
      "outputs": [],
      "source": [
        "#Declaring the X (features) and y(target) variables\n",
        "X_train = train[['Cough','Shortness of breath','Fatigue','body aches','Headache','Loss of taste','family history','Loss of smell','Nausea','Diarrhea','Misc Symptom 1','Misc Symptom 2','Misc Symptom 3','Misc Symptom 4','Misc Symptom 5','Misc Symptom 6','Misc Symptom 7','Congestion','Sore throat','Region','Age']].values\n",
        "y_train = train['Variant'].values"
      ]
    },
    {
      "cell_type": "markdown",
      "metadata": {
        "id": "MqwnR5GTDAfl"
      },
      "source": [
        "# Data Modelling\n"
      ]
    },
    {
      "cell_type": "markdown",
      "metadata": {
        "id": "9JcCfwfk1Hlu"
      },
      "source": [
        "**Random Forest**"
      ]
    },
    {
      "cell_type": "code",
      "execution_count": null,
      "metadata": {
        "id": "oIIaNywl1G9Y",
        "colab": {
          "base_uri": "https://localhost:8080/"
        },
        "outputId": "53ef9f55-db72-43f0-f1b1-447ec022ad61"
      },
      "outputs": [
        {
          "output_type": "execute_result",
          "data": {
            "text/plain": [
              "RandomForestClassifier(max_features=5, n_estimators=15, random_state=11)"
            ]
          },
          "metadata": {},
          "execution_count": 35
        }
      ],
      "source": [
        "#Fitting the Random forest classifier\n",
        "\n",
        "rf = RandomForestClassifier(max_features = 5, n_estimators=15,random_state=11)\n",
        "rf.fit(X_train,y_train)"
      ]
    },
    {
      "cell_type": "code",
      "execution_count": null,
      "metadata": {
        "id": "Km2qQVh51qvc",
        "colab": {
          "base_uri": "https://localhost:8080/"
        },
        "outputId": "542a846e-5c77-4b00-b0d2-36e5f54fc921"
      },
      "outputs": [
        {
          "output_type": "stream",
          "name": "stdout",
          "text": [
            "Score:  1.0\n"
          ]
        }
      ],
      "source": [
        "#Scoring the model\n",
        "print(\"Score: \",rf.score(X_train,y_train))"
      ]
    },
    {
      "cell_type": "code",
      "execution_count": null,
      "metadata": {
        "id": "-JVNI5tug2kN"
      },
      "outputs": [],
      "source": [
        "#Using param_grid and GridSearchCV to check for optimized parameters\n",
        "param_grid = { \n",
        "    'max_depth' : [4,5,6,7,8],\n",
        "    'criterion' :['gini', 'entropy']\n",
        "}"
      ]
    },
    {
      "cell_type": "code",
      "source": [
        "CV_rfc = GridSearchCV(rf,param_grid,cv=5)\n",
        "CV_rfc.fit(X_train,y_train)"
      ],
      "metadata": {
        "colab": {
          "base_uri": "https://localhost:8080/"
        },
        "id": "AOKw6nSRJnO-",
        "outputId": "1ea28a80-34eb-4dd9-c7bb-a3bfbc508450"
      },
      "execution_count": null,
      "outputs": [
        {
          "output_type": "execute_result",
          "data": {
            "text/plain": [
              "GridSearchCV(cv=5,\n",
              "             estimator=RandomForestClassifier(max_features=5, n_estimators=15,\n",
              "                                              random_state=11),\n",
              "             param_grid={'criterion': ['gini', 'entropy'],\n",
              "                         'max_depth': [4, 5, 6, 7, 8]})"
            ]
          },
          "metadata": {},
          "execution_count": 38
        }
      ]
    },
    {
      "cell_type": "code",
      "source": [
        "#Displaying the best parameters\n",
        "\n",
        "CV_rfc.best_params_"
      ],
      "metadata": {
        "colab": {
          "base_uri": "https://localhost:8080/"
        },
        "id": "IVqiSZM-KnDp",
        "outputId": "f2d3587d-a808-441d-d20f-4b29ee64a1a8"
      },
      "execution_count": null,
      "outputs": [
        {
          "output_type": "execute_result",
          "data": {
            "text/plain": [
              "{'criterion': 'gini', 'max_depth': 7}"
            ]
          },
          "metadata": {},
          "execution_count": 39
        }
      ]
    },
    {
      "cell_type": "code",
      "execution_count": null,
      "metadata": {
        "id": "S0UwqQzRi1fd",
        "colab": {
          "base_uri": "https://localhost:8080/"
        },
        "outputId": "95a92b92-39ee-4389-866f-f56e544c7380"
      },
      "outputs": [
        {
          "output_type": "execute_result",
          "data": {
            "text/plain": [
              "RandomForestClassifier(criterion='entropy', max_depth=8, max_features=5,\n",
              "                       n_estimators=15, random_state=21)"
            ]
          },
          "metadata": {},
          "execution_count": 40
        }
      ],
      "source": [
        "#Fitting the model using the obtained new parameters\n",
        "\n",
        "rf_cv = RandomForestClassifier(max_features =5,max_depth = 8, n_estimators=15,random_state=21, criterion='entropy')\n",
        "rf_cv.fit(X_train,y_train)"
      ]
    },
    {
      "cell_type": "code",
      "source": [
        "#Accuracy of the model\n",
        "\n",
        "print(\"Score: \",rf_cv.score(X_train,y_train))"
      ],
      "metadata": {
        "colab": {
          "base_uri": "https://localhost:8080/"
        },
        "id": "vfE0Dt1XLKAr",
        "outputId": "a05c6136-1157-4fef-b2d3-a037ad62cc35"
      },
      "execution_count": null,
      "outputs": [
        {
          "output_type": "stream",
          "name": "stdout",
          "text": [
            "Score:  0.9733009708737864\n"
          ]
        }
      ]
    },
    {
      "cell_type": "markdown",
      "metadata": {
        "id": "hrPY1jCbDCrs"
      },
      "source": [
        "# Testing data"
      ]
    },
    {
      "cell_type": "code",
      "execution_count": null,
      "metadata": {
        "id": "Jch02pYQ3rMk",
        "colab": {
          "base_uri": "https://localhost:8080/",
          "height": 369
        },
        "outputId": "28ad13dd-d831-4fe0-b398-a2d476f2c1f1"
      },
      "outputs": [
        {
          "output_type": "execute_result",
          "data": {
            "text/plain": [
              "    ID  Cough  Shortness of breath  Fatigue  body aches  Headache  \\\n",
              "0   95      1                    2        2           0         0   \n",
              "1  502      3                    2        2           0         3   \n",
              "2  203      2                    3        1           0         1   \n",
              "3  290      2                    2        2           0         1   \n",
              "4  479      1                    2        2           0         0   \n",
              "\n",
              "   Loss of taste family history  Loss of smell  Nausea  ...  Sore throat  \\\n",
              "0              0            Yes              0       1  ...            3   \n",
              "1              3            Yes              1       0  ...            2   \n",
              "2              2             No              1       0  ...            3   \n",
              "3              1            Yes              1       0  ...            1   \n",
              "4              0            Yes              0       0  ...            1   \n",
              "\n",
              "               Region  Misc Symptom 2  Misc Symptom 3 Misc Symptom 4  \\\n",
              "0              Europe               0               0              0   \n",
              "1  East Mediterranean               0               2              2   \n",
              "2  East Mediterranean               0               1              2   \n",
              "3              Africa               1               1              2   \n",
              "4              Europe               0               0              0   \n",
              "\n",
              "   Misc Symptom 5  Misc Symptom 6  Misc Symptom 7  Pre-existing symptoms  Age  \n",
              "0               1               0               0                    NaN   17  \n",
              "1               0               0               0                    NaN   35  \n",
              "2               0               0               2                    NaN   28  \n",
              "3               0               0               0                    NaN   40  \n",
              "4               1               0               0                    NaN   34  \n",
              "\n",
              "[5 rows x 23 columns]"
            ],
            "text/html": [
              "\n",
              "  <div id=\"df-2181b830-b130-4be1-bb84-abd5e1cdfa41\">\n",
              "    <div class=\"colab-df-container\">\n",
              "      <div>\n",
              "<style scoped>\n",
              "    .dataframe tbody tr th:only-of-type {\n",
              "        vertical-align: middle;\n",
              "    }\n",
              "\n",
              "    .dataframe tbody tr th {\n",
              "        vertical-align: top;\n",
              "    }\n",
              "\n",
              "    .dataframe thead th {\n",
              "        text-align: right;\n",
              "    }\n",
              "</style>\n",
              "<table border=\"1\" class=\"dataframe\">\n",
              "  <thead>\n",
              "    <tr style=\"text-align: right;\">\n",
              "      <th></th>\n",
              "      <th>ID</th>\n",
              "      <th>Cough</th>\n",
              "      <th>Shortness of breath</th>\n",
              "      <th>Fatigue</th>\n",
              "      <th>body aches</th>\n",
              "      <th>Headache</th>\n",
              "      <th>Loss of taste</th>\n",
              "      <th>family history</th>\n",
              "      <th>Loss of smell</th>\n",
              "      <th>Nausea</th>\n",
              "      <th>...</th>\n",
              "      <th>Sore throat</th>\n",
              "      <th>Region</th>\n",
              "      <th>Misc Symptom 2</th>\n",
              "      <th>Misc Symptom 3</th>\n",
              "      <th>Misc Symptom 4</th>\n",
              "      <th>Misc Symptom 5</th>\n",
              "      <th>Misc Symptom 6</th>\n",
              "      <th>Misc Symptom 7</th>\n",
              "      <th>Pre-existing symptoms</th>\n",
              "      <th>Age</th>\n",
              "    </tr>\n",
              "  </thead>\n",
              "  <tbody>\n",
              "    <tr>\n",
              "      <th>0</th>\n",
              "      <td>95</td>\n",
              "      <td>1</td>\n",
              "      <td>2</td>\n",
              "      <td>2</td>\n",
              "      <td>0</td>\n",
              "      <td>0</td>\n",
              "      <td>0</td>\n",
              "      <td>Yes</td>\n",
              "      <td>0</td>\n",
              "      <td>1</td>\n",
              "      <td>...</td>\n",
              "      <td>3</td>\n",
              "      <td>Europe</td>\n",
              "      <td>0</td>\n",
              "      <td>0</td>\n",
              "      <td>0</td>\n",
              "      <td>1</td>\n",
              "      <td>0</td>\n",
              "      <td>0</td>\n",
              "      <td>NaN</td>\n",
              "      <td>17</td>\n",
              "    </tr>\n",
              "    <tr>\n",
              "      <th>1</th>\n",
              "      <td>502</td>\n",
              "      <td>3</td>\n",
              "      <td>2</td>\n",
              "      <td>2</td>\n",
              "      <td>0</td>\n",
              "      <td>3</td>\n",
              "      <td>3</td>\n",
              "      <td>Yes</td>\n",
              "      <td>1</td>\n",
              "      <td>0</td>\n",
              "      <td>...</td>\n",
              "      <td>2</td>\n",
              "      <td>East Mediterranean</td>\n",
              "      <td>0</td>\n",
              "      <td>2</td>\n",
              "      <td>2</td>\n",
              "      <td>0</td>\n",
              "      <td>0</td>\n",
              "      <td>0</td>\n",
              "      <td>NaN</td>\n",
              "      <td>35</td>\n",
              "    </tr>\n",
              "    <tr>\n",
              "      <th>2</th>\n",
              "      <td>203</td>\n",
              "      <td>2</td>\n",
              "      <td>3</td>\n",
              "      <td>1</td>\n",
              "      <td>0</td>\n",
              "      <td>1</td>\n",
              "      <td>2</td>\n",
              "      <td>No</td>\n",
              "      <td>1</td>\n",
              "      <td>0</td>\n",
              "      <td>...</td>\n",
              "      <td>3</td>\n",
              "      <td>East Mediterranean</td>\n",
              "      <td>0</td>\n",
              "      <td>1</td>\n",
              "      <td>2</td>\n",
              "      <td>0</td>\n",
              "      <td>0</td>\n",
              "      <td>2</td>\n",
              "      <td>NaN</td>\n",
              "      <td>28</td>\n",
              "    </tr>\n",
              "    <tr>\n",
              "      <th>3</th>\n",
              "      <td>290</td>\n",
              "      <td>2</td>\n",
              "      <td>2</td>\n",
              "      <td>2</td>\n",
              "      <td>0</td>\n",
              "      <td>1</td>\n",
              "      <td>1</td>\n",
              "      <td>Yes</td>\n",
              "      <td>1</td>\n",
              "      <td>0</td>\n",
              "      <td>...</td>\n",
              "      <td>1</td>\n",
              "      <td>Africa</td>\n",
              "      <td>1</td>\n",
              "      <td>1</td>\n",
              "      <td>2</td>\n",
              "      <td>0</td>\n",
              "      <td>0</td>\n",
              "      <td>0</td>\n",
              "      <td>NaN</td>\n",
              "      <td>40</td>\n",
              "    </tr>\n",
              "    <tr>\n",
              "      <th>4</th>\n",
              "      <td>479</td>\n",
              "      <td>1</td>\n",
              "      <td>2</td>\n",
              "      <td>2</td>\n",
              "      <td>0</td>\n",
              "      <td>0</td>\n",
              "      <td>0</td>\n",
              "      <td>Yes</td>\n",
              "      <td>0</td>\n",
              "      <td>0</td>\n",
              "      <td>...</td>\n",
              "      <td>1</td>\n",
              "      <td>Europe</td>\n",
              "      <td>0</td>\n",
              "      <td>0</td>\n",
              "      <td>0</td>\n",
              "      <td>1</td>\n",
              "      <td>0</td>\n",
              "      <td>0</td>\n",
              "      <td>NaN</td>\n",
              "      <td>34</td>\n",
              "    </tr>\n",
              "  </tbody>\n",
              "</table>\n",
              "<p>5 rows × 23 columns</p>\n",
              "</div>\n",
              "      <button class=\"colab-df-convert\" onclick=\"convertToInteractive('df-2181b830-b130-4be1-bb84-abd5e1cdfa41')\"\n",
              "              title=\"Convert this dataframe to an interactive table.\"\n",
              "              style=\"display:none;\">\n",
              "        \n",
              "  <svg xmlns=\"http://www.w3.org/2000/svg\" height=\"24px\"viewBox=\"0 0 24 24\"\n",
              "       width=\"24px\">\n",
              "    <path d=\"M0 0h24v24H0V0z\" fill=\"none\"/>\n",
              "    <path d=\"M18.56 5.44l.94 2.06.94-2.06 2.06-.94-2.06-.94-.94-2.06-.94 2.06-2.06.94zm-11 1L8.5 8.5l.94-2.06 2.06-.94-2.06-.94L8.5 2.5l-.94 2.06-2.06.94zm10 10l.94 2.06.94-2.06 2.06-.94-2.06-.94-.94-2.06-.94 2.06-2.06.94z\"/><path d=\"M17.41 7.96l-1.37-1.37c-.4-.4-.92-.59-1.43-.59-.52 0-1.04.2-1.43.59L10.3 9.45l-7.72 7.72c-.78.78-.78 2.05 0 2.83L4 21.41c.39.39.9.59 1.41.59.51 0 1.02-.2 1.41-.59l7.78-7.78 2.81-2.81c.8-.78.8-2.07 0-2.86zM5.41 20L4 18.59l7.72-7.72 1.47 1.35L5.41 20z\"/>\n",
              "  </svg>\n",
              "      </button>\n",
              "      \n",
              "  <style>\n",
              "    .colab-df-container {\n",
              "      display:flex;\n",
              "      flex-wrap:wrap;\n",
              "      gap: 12px;\n",
              "    }\n",
              "\n",
              "    .colab-df-convert {\n",
              "      background-color: #E8F0FE;\n",
              "      border: none;\n",
              "      border-radius: 50%;\n",
              "      cursor: pointer;\n",
              "      display: none;\n",
              "      fill: #1967D2;\n",
              "      height: 32px;\n",
              "      padding: 0 0 0 0;\n",
              "      width: 32px;\n",
              "    }\n",
              "\n",
              "    .colab-df-convert:hover {\n",
              "      background-color: #E2EBFA;\n",
              "      box-shadow: 0px 1px 2px rgba(60, 64, 67, 0.3), 0px 1px 3px 1px rgba(60, 64, 67, 0.15);\n",
              "      fill: #174EA6;\n",
              "    }\n",
              "\n",
              "    [theme=dark] .colab-df-convert {\n",
              "      background-color: #3B4455;\n",
              "      fill: #D2E3FC;\n",
              "    }\n",
              "\n",
              "    [theme=dark] .colab-df-convert:hover {\n",
              "      background-color: #434B5C;\n",
              "      box-shadow: 0px 1px 3px 1px rgba(0, 0, 0, 0.15);\n",
              "      filter: drop-shadow(0px 1px 2px rgba(0, 0, 0, 0.3));\n",
              "      fill: #FFFFFF;\n",
              "    }\n",
              "  </style>\n",
              "\n",
              "      <script>\n",
              "        const buttonEl =\n",
              "          document.querySelector('#df-2181b830-b130-4be1-bb84-abd5e1cdfa41 button.colab-df-convert');\n",
              "        buttonEl.style.display =\n",
              "          google.colab.kernel.accessAllowed ? 'block' : 'none';\n",
              "\n",
              "        async function convertToInteractive(key) {\n",
              "          const element = document.querySelector('#df-2181b830-b130-4be1-bb84-abd5e1cdfa41');\n",
              "          const dataTable =\n",
              "            await google.colab.kernel.invokeFunction('convertToInteractive',\n",
              "                                                     [key], {});\n",
              "          if (!dataTable) return;\n",
              "\n",
              "          const docLinkHtml = 'Like what you see? Visit the ' +\n",
              "            '<a target=\"_blank\" href=https://colab.research.google.com/notebooks/data_table.ipynb>data table notebook</a>'\n",
              "            + ' to learn more about interactive tables.';\n",
              "          element.innerHTML = '';\n",
              "          dataTable['output_type'] = 'display_data';\n",
              "          await google.colab.output.renderOutput(dataTable, element);\n",
              "          const docLink = document.createElement('div');\n",
              "          docLink.innerHTML = docLinkHtml;\n",
              "          element.appendChild(docLink);\n",
              "        }\n",
              "      </script>\n",
              "    </div>\n",
              "  </div>\n",
              "  "
            ]
          },
          "metadata": {},
          "execution_count": 42
        }
      ],
      "source": [
        "#Reading the test data\n",
        "test_data = pd.read_csv(\"/content/Test.csv\")\n",
        "test_data.head()"
      ]
    },
    {
      "cell_type": "code",
      "execution_count": null,
      "metadata": {
        "id": "6fAkzu4t9m7M"
      },
      "outputs": [],
      "source": [
        "class1 = {\n",
        "    'Yes': 0,\n",
        "    'No': 1\n",
        "}\n",
        "class2 = {\n",
        "    'Europe': 1,\n",
        "    'Americas': 2,\n",
        "    'East Mediterranean': 3,\n",
        "    'Africa': 4\n",
        "}\n",
        "\n",
        "test_data['family history'] = [class1[item] for item in test_data['family history']]\n",
        "test_data.Region = [class2[item] for item in test_data.Region]"
      ]
    },
    {
      "cell_type": "code",
      "execution_count": null,
      "metadata": {
        "id": "7GxmTdJ8GT6p"
      },
      "outputs": [],
      "source": [
        "#Declaring the X variable\n",
        "\n",
        "X_test = test_data[['Cough','Shortness of breath','Fatigue','body aches','Headache','Loss of taste','family history','Loss of smell','Nausea','Diarrhea','Misc Symptom 1','Misc Symptom 2','Misc Symptom 3','Misc Symptom 4','Misc Symptom 5','Misc Symptom 6','Misc Symptom 7','Congestion','Sore throat','Region','Age']].values"
      ]
    },
    {
      "cell_type": "code",
      "execution_count": null,
      "metadata": {
        "id": "WvOT4R9P9oi0"
      },
      "outputs": [],
      "source": [
        "#Predicting the y variable\n",
        "\n",
        "pred_y = rf_cv.predict(X_test)"
      ]
    },
    {
      "cell_type": "code",
      "execution_count": null,
      "metadata": {
        "id": "JCYLTLUd4R6G",
        "colab": {
          "base_uri": "https://localhost:8080/",
          "height": 424
        },
        "outputId": "9982bdf9-eef1-491f-b4dd-f92119422c7a"
      },
      "outputs": [
        {
          "output_type": "execute_result",
          "data": {
            "text/plain": [
              "      ID    Variant\n",
              "0     95  Variant 5\n",
              "1    502  Variant 1\n",
              "2    203  Variant 1\n",
              "3    290  Variant 1\n",
              "4    479  Variant 2\n",
              "..   ...        ...\n",
              "172  398  Variant 1\n",
              "173  117  Variant 2\n",
              "174   74  Variant 2\n",
              "175  299  Variant 2\n",
              "176   94  Variant 1\n",
              "\n",
              "[177 rows x 2 columns]"
            ],
            "text/html": [
              "\n",
              "  <div id=\"df-0dff638e-afab-4216-a9ca-f6ffbfd7992c\">\n",
              "    <div class=\"colab-df-container\">\n",
              "      <div>\n",
              "<style scoped>\n",
              "    .dataframe tbody tr th:only-of-type {\n",
              "        vertical-align: middle;\n",
              "    }\n",
              "\n",
              "    .dataframe tbody tr th {\n",
              "        vertical-align: top;\n",
              "    }\n",
              "\n",
              "    .dataframe thead th {\n",
              "        text-align: right;\n",
              "    }\n",
              "</style>\n",
              "<table border=\"1\" class=\"dataframe\">\n",
              "  <thead>\n",
              "    <tr style=\"text-align: right;\">\n",
              "      <th></th>\n",
              "      <th>ID</th>\n",
              "      <th>Variant</th>\n",
              "    </tr>\n",
              "  </thead>\n",
              "  <tbody>\n",
              "    <tr>\n",
              "      <th>0</th>\n",
              "      <td>95</td>\n",
              "      <td>Variant 5</td>\n",
              "    </tr>\n",
              "    <tr>\n",
              "      <th>1</th>\n",
              "      <td>502</td>\n",
              "      <td>Variant 1</td>\n",
              "    </tr>\n",
              "    <tr>\n",
              "      <th>2</th>\n",
              "      <td>203</td>\n",
              "      <td>Variant 1</td>\n",
              "    </tr>\n",
              "    <tr>\n",
              "      <th>3</th>\n",
              "      <td>290</td>\n",
              "      <td>Variant 1</td>\n",
              "    </tr>\n",
              "    <tr>\n",
              "      <th>4</th>\n",
              "      <td>479</td>\n",
              "      <td>Variant 2</td>\n",
              "    </tr>\n",
              "    <tr>\n",
              "      <th>...</th>\n",
              "      <td>...</td>\n",
              "      <td>...</td>\n",
              "    </tr>\n",
              "    <tr>\n",
              "      <th>172</th>\n",
              "      <td>398</td>\n",
              "      <td>Variant 1</td>\n",
              "    </tr>\n",
              "    <tr>\n",
              "      <th>173</th>\n",
              "      <td>117</td>\n",
              "      <td>Variant 2</td>\n",
              "    </tr>\n",
              "    <tr>\n",
              "      <th>174</th>\n",
              "      <td>74</td>\n",
              "      <td>Variant 2</td>\n",
              "    </tr>\n",
              "    <tr>\n",
              "      <th>175</th>\n",
              "      <td>299</td>\n",
              "      <td>Variant 2</td>\n",
              "    </tr>\n",
              "    <tr>\n",
              "      <th>176</th>\n",
              "      <td>94</td>\n",
              "      <td>Variant 1</td>\n",
              "    </tr>\n",
              "  </tbody>\n",
              "</table>\n",
              "<p>177 rows × 2 columns</p>\n",
              "</div>\n",
              "      <button class=\"colab-df-convert\" onclick=\"convertToInteractive('df-0dff638e-afab-4216-a9ca-f6ffbfd7992c')\"\n",
              "              title=\"Convert this dataframe to an interactive table.\"\n",
              "              style=\"display:none;\">\n",
              "        \n",
              "  <svg xmlns=\"http://www.w3.org/2000/svg\" height=\"24px\"viewBox=\"0 0 24 24\"\n",
              "       width=\"24px\">\n",
              "    <path d=\"M0 0h24v24H0V0z\" fill=\"none\"/>\n",
              "    <path d=\"M18.56 5.44l.94 2.06.94-2.06 2.06-.94-2.06-.94-.94-2.06-.94 2.06-2.06.94zm-11 1L8.5 8.5l.94-2.06 2.06-.94-2.06-.94L8.5 2.5l-.94 2.06-2.06.94zm10 10l.94 2.06.94-2.06 2.06-.94-2.06-.94-.94-2.06-.94 2.06-2.06.94z\"/><path d=\"M17.41 7.96l-1.37-1.37c-.4-.4-.92-.59-1.43-.59-.52 0-1.04.2-1.43.59L10.3 9.45l-7.72 7.72c-.78.78-.78 2.05 0 2.83L4 21.41c.39.39.9.59 1.41.59.51 0 1.02-.2 1.41-.59l7.78-7.78 2.81-2.81c.8-.78.8-2.07 0-2.86zM5.41 20L4 18.59l7.72-7.72 1.47 1.35L5.41 20z\"/>\n",
              "  </svg>\n",
              "      </button>\n",
              "      \n",
              "  <style>\n",
              "    .colab-df-container {\n",
              "      display:flex;\n",
              "      flex-wrap:wrap;\n",
              "      gap: 12px;\n",
              "    }\n",
              "\n",
              "    .colab-df-convert {\n",
              "      background-color: #E8F0FE;\n",
              "      border: none;\n",
              "      border-radius: 50%;\n",
              "      cursor: pointer;\n",
              "      display: none;\n",
              "      fill: #1967D2;\n",
              "      height: 32px;\n",
              "      padding: 0 0 0 0;\n",
              "      width: 32px;\n",
              "    }\n",
              "\n",
              "    .colab-df-convert:hover {\n",
              "      background-color: #E2EBFA;\n",
              "      box-shadow: 0px 1px 2px rgba(60, 64, 67, 0.3), 0px 1px 3px 1px rgba(60, 64, 67, 0.15);\n",
              "      fill: #174EA6;\n",
              "    }\n",
              "\n",
              "    [theme=dark] .colab-df-convert {\n",
              "      background-color: #3B4455;\n",
              "      fill: #D2E3FC;\n",
              "    }\n",
              "\n",
              "    [theme=dark] .colab-df-convert:hover {\n",
              "      background-color: #434B5C;\n",
              "      box-shadow: 0px 1px 3px 1px rgba(0, 0, 0, 0.15);\n",
              "      filter: drop-shadow(0px 1px 2px rgba(0, 0, 0, 0.3));\n",
              "      fill: #FFFFFF;\n",
              "    }\n",
              "  </style>\n",
              "\n",
              "      <script>\n",
              "        const buttonEl =\n",
              "          document.querySelector('#df-0dff638e-afab-4216-a9ca-f6ffbfd7992c button.colab-df-convert');\n",
              "        buttonEl.style.display =\n",
              "          google.colab.kernel.accessAllowed ? 'block' : 'none';\n",
              "\n",
              "        async function convertToInteractive(key) {\n",
              "          const element = document.querySelector('#df-0dff638e-afab-4216-a9ca-f6ffbfd7992c');\n",
              "          const dataTable =\n",
              "            await google.colab.kernel.invokeFunction('convertToInteractive',\n",
              "                                                     [key], {});\n",
              "          if (!dataTable) return;\n",
              "\n",
              "          const docLinkHtml = 'Like what you see? Visit the ' +\n",
              "            '<a target=\"_blank\" href=https://colab.research.google.com/notebooks/data_table.ipynb>data table notebook</a>'\n",
              "            + ' to learn more about interactive tables.';\n",
              "          element.innerHTML = '';\n",
              "          dataTable['output_type'] = 'display_data';\n",
              "          await google.colab.output.renderOutput(dataTable, element);\n",
              "          const docLink = document.createElement('div');\n",
              "          docLink.innerHTML = docLinkHtml;\n",
              "          element.appendChild(docLink);\n",
              "        }\n",
              "      </script>\n",
              "    </div>\n",
              "  </div>\n",
              "  "
            ]
          },
          "metadata": {},
          "execution_count": 46
        }
      ],
      "source": [
        "#Print predictions in the required format\n",
        "\n",
        "data = {\n",
        "    'ID': test_data['ID'],\n",
        "    'Variant': pred_y\n",
        "}\n",
        "predictions = pd.DataFrame(data)\n",
        "\n",
        "var = {1:'Variant 1',2:'Variant 2',3: 'Variant 3',4: 'Variant 4',5: 'Variant 5',6: 'Variant 6'}\n",
        "\n",
        "predictions.Variant = [var[item] for item in predictions.Variant]\n",
        "\n",
        "predictions"
      ]
    },
    {
      "cell_type": "code",
      "execution_count": null,
      "metadata": {
        "id": "J15m8Wjf4_dX"
      },
      "outputs": [],
      "source": [
        "#Export the predictions to a csv\n",
        "\n",
        "predictions.to_csv('prediction.csv')"
      ]
    }
  ],
  "metadata": {
    "colab": {
      "collapsed_sections": [
        "iaKE2kR7C62W",
        "qvtShM-0C9u9"
      ],
      "provenance": []
    },
    "kernelspec": {
      "display_name": "Python 3",
      "language": "python",
      "name": "python3"
    },
    "language_info": {
      "codemirror_mode": {
        "name": "ipython",
        "version": 3
      },
      "file_extension": ".py",
      "mimetype": "text/x-python",
      "name": "python",
      "nbconvert_exporter": "python",
      "pygments_lexer": "ipython3",
      "version": "3.8.8"
    }
  },
  "nbformat": 4,
  "nbformat_minor": 0
}